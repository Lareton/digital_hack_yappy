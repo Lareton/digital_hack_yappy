{
 "cells": [
  {
   "cell_type": "code",
   "execution_count": 1,
   "id": "0a3266f6-ac6e-4cfd-b2d2-1e3cf847c218",
   "metadata": {
    "execution": {
     "iopub.execute_input": "2024-09-28T14:47:00.436914Z",
     "iopub.status.busy": "2024-09-28T14:47:00.435313Z",
     "iopub.status.idle": "2024-09-28T14:47:00.600095Z",
     "shell.execute_reply": "2024-09-28T14:47:00.599145Z",
     "shell.execute_reply.started": "2024-09-28T14:47:00.436863Z"
    },
    "tags": []
   },
   "outputs": [],
   "source": [
    "import pandas as pd\n",
    "df = pd.read_csv(\"train.csv\")\n",
    "links = df[\"link\"].tolist()"
   ]
  },
  {
   "cell_type": "code",
   "execution_count": 18,
   "id": "5b4b9393-e158-4eea-9a8a-8b259d72f4ff",
   "metadata": {
    "execution": {
     "iopub.execute_input": "2024-09-28T17:17:52.807775Z",
     "iopub.status.busy": "2024-09-28T17:17:52.806736Z",
     "iopub.status.idle": "2024-09-28T17:17:52.834118Z",
     "shell.execute_reply": "2024-09-28T17:17:52.833405Z",
     "shell.execute_reply.started": "2024-09-28T17:17:52.807730Z"
    }
   },
   "outputs": [
    {
     "data": {
      "text/html": [
       "<div>\n",
       "<style scoped>\n",
       "    .dataframe tbody tr th:only-of-type {\n",
       "        vertical-align: middle;\n",
       "    }\n",
       "\n",
       "    .dataframe tbody tr th {\n",
       "        vertical-align: top;\n",
       "    }\n",
       "\n",
       "    .dataframe thead th {\n",
       "        text-align: right;\n",
       "    }\n",
       "</style>\n",
       "<table border=\"1\" class=\"dataframe\">\n",
       "  <thead>\n",
       "    <tr style=\"text-align: right;\">\n",
       "      <th></th>\n",
       "      <th>created</th>\n",
       "      <th>uuid</th>\n",
       "      <th>link</th>\n",
       "      <th>is_duplicate</th>\n",
       "      <th>duplicate_for</th>\n",
       "      <th>is_hard</th>\n",
       "    </tr>\n",
       "  </thead>\n",
       "  <tbody>\n",
       "    <tr>\n",
       "      <th>20</th>\n",
       "      <td>2024-06-01 01:58:01</td>\n",
       "      <td>2da574f2-5ae7-4d85-9f5b-c2970a315c1c</td>\n",
       "      <td>https://s3.ritm.media/yappy-db-duplicates/2da5...</td>\n",
       "      <td>False</td>\n",
       "      <td>NaN</td>\n",
       "      <td>False</td>\n",
       "    </tr>\n",
       "  </tbody>\n",
       "</table>\n",
       "</div>"
      ],
      "text/plain": [
       "                created  ... is_hard\n",
       "20  2024-06-01 01:58:01  ...   False\n",
       "\n",
       "[1 rows x 6 columns]"
      ]
     },
     "execution_count": 18,
     "metadata": {},
     "output_type": "execute_result"
    }
   ],
   "source": [
    "df[df[\"uuid\"] == \"2da574f2-5ae7-4d85-9f5b-c2970a315c1c\"]"
   ]
  },
  {
   "cell_type": "code",
   "execution_count": 17,
   "id": "619e783f-b184-4645-af00-0e0d8689e07d",
   "metadata": {
    "execution": {
     "iopub.execute_input": "2024-09-28T17:16:49.202764Z",
     "iopub.status.busy": "2024-09-28T17:16:49.201614Z",
     "iopub.status.idle": "2024-09-28T17:16:49.227824Z",
     "shell.execute_reply": "2024-09-28T17:16:49.226871Z",
     "shell.execute_reply.started": "2024-09-28T17:16:49.202719Z"
    },
    "tags": []
   },
   "outputs": [
    {
     "data": {
      "text/html": [
       "<div>\n",
       "<style scoped>\n",
       "    .dataframe tbody tr th:only-of-type {\n",
       "        vertical-align: middle;\n",
       "    }\n",
       "\n",
       "    .dataframe tbody tr th {\n",
       "        vertical-align: top;\n",
       "    }\n",
       "\n",
       "    .dataframe thead th {\n",
       "        text-align: right;\n",
       "    }\n",
       "</style>\n",
       "<table border=\"1\" class=\"dataframe\">\n",
       "  <thead>\n",
       "    <tr style=\"text-align: right;\">\n",
       "      <th></th>\n",
       "      <th>created</th>\n",
       "      <th>uuid</th>\n",
       "      <th>link</th>\n",
       "      <th>is_duplicate</th>\n",
       "      <th>duplicate_for</th>\n",
       "      <th>is_hard</th>\n",
       "    </tr>\n",
       "  </thead>\n",
       "  <tbody>\n",
       "    <tr>\n",
       "      <th>210</th>\n",
       "      <td>2024-06-01 22:00:53</td>\n",
       "      <td>22432439-32ab-4809-808e-0196fc9e0641</td>\n",
       "      <td>https://s3.ritm.media/yappy-db-duplicates/2243...</td>\n",
       "      <td>False</td>\n",
       "      <td>NaN</td>\n",
       "      <td>False</td>\n",
       "    </tr>\n",
       "    <tr>\n",
       "      <th>211</th>\n",
       "      <td>2024-06-01 22:03:27</td>\n",
       "      <td>d444f2d0-a7cd-4c9b-bc56-8d5ef88ec015</td>\n",
       "      <td>https://s3.ritm.media/yappy-db-duplicates/d444...</td>\n",
       "      <td>False</td>\n",
       "      <td>NaN</td>\n",
       "      <td>True</td>\n",
       "    </tr>\n",
       "    <tr>\n",
       "      <th>212</th>\n",
       "      <td>2024-06-01 22:04:03</td>\n",
       "      <td>a18324cf-b2ad-41e2-86b8-e6923c5fdc36</td>\n",
       "      <td>https://s3.ritm.media/yappy-db-duplicates/a183...</td>\n",
       "      <td>True</td>\n",
       "      <td>2da574f2-5ae7-4d85-9f5b-c2970a315c1c</td>\n",
       "      <td>False</td>\n",
       "    </tr>\n",
       "    <tr>\n",
       "      <th>213</th>\n",
       "      <td>2024-06-01 22:23:39</td>\n",
       "      <td>34740160-af84-4e2d-bd6d-109f0800783f</td>\n",
       "      <td>https://s3.ritm.media/yappy-db-duplicates/3474...</td>\n",
       "      <td>False</td>\n",
       "      <td>NaN</td>\n",
       "      <td>False</td>\n",
       "    </tr>\n",
       "    <tr>\n",
       "      <th>214</th>\n",
       "      <td>2024-06-01 22:34:14</td>\n",
       "      <td>05053fc6-807f-4399-bc78-f0e484469cc8</td>\n",
       "      <td>https://s3.ritm.media/yappy-db-duplicates/0505...</td>\n",
       "      <td>False</td>\n",
       "      <td>NaN</td>\n",
       "      <td>False</td>\n",
       "    </tr>\n",
       "    <tr>\n",
       "      <th>215</th>\n",
       "      <td>2024-06-01 22:40:08</td>\n",
       "      <td>41b5d4ba-f540-4a29-a327-28e21114c646</td>\n",
       "      <td>https://s3.ritm.media/yappy-db-duplicates/41b5...</td>\n",
       "      <td>False</td>\n",
       "      <td>NaN</td>\n",
       "      <td>False</td>\n",
       "    </tr>\n",
       "    <tr>\n",
       "      <th>216</th>\n",
       "      <td>2024-06-01 22:47:05</td>\n",
       "      <td>0f73b955-862d-46cb-86a7-5fa815365316</td>\n",
       "      <td>https://s3.ritm.media/yappy-db-duplicates/0f73...</td>\n",
       "      <td>False</td>\n",
       "      <td>NaN</td>\n",
       "      <td>False</td>\n",
       "    </tr>\n",
       "    <tr>\n",
       "      <th>217</th>\n",
       "      <td>2024-06-01 22:50:24</td>\n",
       "      <td>1a713f01-e2e1-48e8-83f3-2c90938ba197</td>\n",
       "      <td>https://s3.ritm.media/yappy-db-duplicates/1a71...</td>\n",
       "      <td>False</td>\n",
       "      <td>NaN</td>\n",
       "      <td>False</td>\n",
       "    </tr>\n",
       "    <tr>\n",
       "      <th>218</th>\n",
       "      <td>2024-06-01 22:56:51</td>\n",
       "      <td>35907a95-5ea8-4fa9-a150-657397138452</td>\n",
       "      <td>https://s3.ritm.media/yappy-db-duplicates/3590...</td>\n",
       "      <td>False</td>\n",
       "      <td>NaN</td>\n",
       "      <td>False</td>\n",
       "    </tr>\n",
       "    <tr>\n",
       "      <th>219</th>\n",
       "      <td>2024-06-01 23:06:34</td>\n",
       "      <td>503d57ad-7606-46c6-87be-861a4fbb4e8f</td>\n",
       "      <td>https://s3.ritm.media/yappy-db-duplicates/503d...</td>\n",
       "      <td>False</td>\n",
       "      <td>NaN</td>\n",
       "      <td>False</td>\n",
       "    </tr>\n",
       "    <tr>\n",
       "      <th>220</th>\n",
       "      <td>2024-06-01 23:09:09</td>\n",
       "      <td>0b090582-d4de-4dd9-be7a-2d3d65229a7a</td>\n",
       "      <td>https://s3.ritm.media/yappy-db-duplicates/0b09...</td>\n",
       "      <td>False</td>\n",
       "      <td>NaN</td>\n",
       "      <td>False</td>\n",
       "    </tr>\n",
       "    <tr>\n",
       "      <th>221</th>\n",
       "      <td>2024-06-01 23:12:31</td>\n",
       "      <td>2253aaa4-b29c-4b7d-b9cc-9286d23c44e8</td>\n",
       "      <td>https://s3.ritm.media/yappy-db-duplicates/2253...</td>\n",
       "      <td>True</td>\n",
       "      <td>3a20cbaf-798a-4b25-b2c1-e41e1c6ecd09</td>\n",
       "      <td>False</td>\n",
       "    </tr>\n",
       "    <tr>\n",
       "      <th>222</th>\n",
       "      <td>2024-06-01 23:21:16</td>\n",
       "      <td>099fc8e6-f33e-4aa1-ba0a-6fc5ffbe2f5c</td>\n",
       "      <td>https://s3.ritm.media/yappy-db-duplicates/099f...</td>\n",
       "      <td>False</td>\n",
       "      <td>NaN</td>\n",
       "      <td>False</td>\n",
       "    </tr>\n",
       "    <tr>\n",
       "      <th>223</th>\n",
       "      <td>2024-06-01 23:22:43</td>\n",
       "      <td>4fe52d8c-4c61-4554-bb5d-65a0515df1e6</td>\n",
       "      <td>https://s3.ritm.media/yappy-db-duplicates/4fe5...</td>\n",
       "      <td>False</td>\n",
       "      <td>NaN</td>\n",
       "      <td>False</td>\n",
       "    </tr>\n",
       "    <tr>\n",
       "      <th>224</th>\n",
       "      <td>2024-06-01 23:27:53</td>\n",
       "      <td>1a33b62a-1222-4876-8ca5-89037e75cbab</td>\n",
       "      <td>https://s3.ritm.media/yappy-db-duplicates/1a33...</td>\n",
       "      <td>False</td>\n",
       "      <td>NaN</td>\n",
       "      <td>False</td>\n",
       "    </tr>\n",
       "    <tr>\n",
       "      <th>225</th>\n",
       "      <td>2024-06-01 23:49:14</td>\n",
       "      <td>550492f9-d236-4f13-899a-4ae5da7d7a0f</td>\n",
       "      <td>https://s3.ritm.media/yappy-db-duplicates/5504...</td>\n",
       "      <td>False</td>\n",
       "      <td>NaN</td>\n",
       "      <td>False</td>\n",
       "    </tr>\n",
       "    <tr>\n",
       "      <th>226</th>\n",
       "      <td>2024-06-02 00:01:14</td>\n",
       "      <td>0af145dd-e5f1-4cc1-a755-4e9a52ea2435</td>\n",
       "      <td>https://s3.ritm.media/yappy-db-duplicates/0af1...</td>\n",
       "      <td>False</td>\n",
       "      <td>NaN</td>\n",
       "      <td>False</td>\n",
       "    </tr>\n",
       "    <tr>\n",
       "      <th>227</th>\n",
       "      <td>2024-06-02 00:04:33</td>\n",
       "      <td>1ddb4a5e-30bc-47c5-bf52-e97d5c845582</td>\n",
       "      <td>https://s3.ritm.media/yappy-db-duplicates/1ddb...</td>\n",
       "      <td>False</td>\n",
       "      <td>NaN</td>\n",
       "      <td>False</td>\n",
       "    </tr>\n",
       "    <tr>\n",
       "      <th>228</th>\n",
       "      <td>2024-06-02 00:09:57</td>\n",
       "      <td>3e0ad4a2-e652-43b7-af45-467c3897c217</td>\n",
       "      <td>https://s3.ritm.media/yappy-db-duplicates/3e0a...</td>\n",
       "      <td>False</td>\n",
       "      <td>NaN</td>\n",
       "      <td>False</td>\n",
       "    </tr>\n",
       "    <tr>\n",
       "      <th>229</th>\n",
       "      <td>2024-06-02 00:13:11</td>\n",
       "      <td>2e3089c4-68bc-4bec-85a5-35aa4a752e77</td>\n",
       "      <td>https://s3.ritm.media/yappy-db-duplicates/2e30...</td>\n",
       "      <td>False</td>\n",
       "      <td>NaN</td>\n",
       "      <td>False</td>\n",
       "    </tr>\n",
       "    <tr>\n",
       "      <th>230</th>\n",
       "      <td>2024-06-02 00:14:26</td>\n",
       "      <td>2d5a0255-d745-4cf7-b658-b996fe987c11</td>\n",
       "      <td>https://s3.ritm.media/yappy-db-duplicates/2d5a...</td>\n",
       "      <td>False</td>\n",
       "      <td>NaN</td>\n",
       "      <td>False</td>\n",
       "    </tr>\n",
       "    <tr>\n",
       "      <th>231</th>\n",
       "      <td>2024-06-02 00:21:34</td>\n",
       "      <td>5615cd7b-5698-4d66-909c-1d631f655ca8</td>\n",
       "      <td>https://s3.ritm.media/yappy-db-duplicates/5615...</td>\n",
       "      <td>False</td>\n",
       "      <td>NaN</td>\n",
       "      <td>False</td>\n",
       "    </tr>\n",
       "    <tr>\n",
       "      <th>232</th>\n",
       "      <td>2024-06-02 00:25:36</td>\n",
       "      <td>188c96c0-2464-4215-b19d-44d7fa356a59</td>\n",
       "      <td>https://s3.ritm.media/yappy-db-duplicates/188c...</td>\n",
       "      <td>False</td>\n",
       "      <td>NaN</td>\n",
       "      <td>False</td>\n",
       "    </tr>\n",
       "    <tr>\n",
       "      <th>233</th>\n",
       "      <td>2024-06-02 00:35:18</td>\n",
       "      <td>23a42750-4939-48eb-9441-e7a1fb345c13</td>\n",
       "      <td>https://s3.ritm.media/yappy-db-duplicates/23a4...</td>\n",
       "      <td>False</td>\n",
       "      <td>NaN</td>\n",
       "      <td>False</td>\n",
       "    </tr>\n",
       "    <tr>\n",
       "      <th>234</th>\n",
       "      <td>2024-06-02 00:35:45</td>\n",
       "      <td>4b64085d-18f7-4fd3-b73b-94cd66ef3d8d</td>\n",
       "      <td>https://s3.ritm.media/yappy-db-duplicates/4b64...</td>\n",
       "      <td>False</td>\n",
       "      <td>NaN</td>\n",
       "      <td>False</td>\n",
       "    </tr>\n",
       "    <tr>\n",
       "      <th>235</th>\n",
       "      <td>2024-06-02 00:38:04</td>\n",
       "      <td>1a36c3e6-7437-4cde-a1df-2cd352da7a7b</td>\n",
       "      <td>https://s3.ritm.media/yappy-db-duplicates/1a36...</td>\n",
       "      <td>False</td>\n",
       "      <td>NaN</td>\n",
       "      <td>False</td>\n",
       "    </tr>\n",
       "    <tr>\n",
       "      <th>236</th>\n",
       "      <td>2024-06-02 00:44:18</td>\n",
       "      <td>3405abaa-5c0a-4ac5-9287-496b900e6425</td>\n",
       "      <td>https://s3.ritm.media/yappy-db-duplicates/3405...</td>\n",
       "      <td>False</td>\n",
       "      <td>NaN</td>\n",
       "      <td>False</td>\n",
       "    </tr>\n",
       "    <tr>\n",
       "      <th>237</th>\n",
       "      <td>2024-06-02 00:51:44</td>\n",
       "      <td>12f77b97-b60e-4d02-8603-d4d0a3cf3469</td>\n",
       "      <td>https://s3.ritm.media/yappy-db-duplicates/12f7...</td>\n",
       "      <td>False</td>\n",
       "      <td>NaN</td>\n",
       "      <td>False</td>\n",
       "    </tr>\n",
       "    <tr>\n",
       "      <th>238</th>\n",
       "      <td>2024-06-02 00:52:03</td>\n",
       "      <td>26ed4f7a-c158-48eb-b1a5-7449aaef00cd</td>\n",
       "      <td>https://s3.ritm.media/yappy-db-duplicates/26ed...</td>\n",
       "      <td>False</td>\n",
       "      <td>NaN</td>\n",
       "      <td>False</td>\n",
       "    </tr>\n",
       "    <tr>\n",
       "      <th>239</th>\n",
       "      <td>2024-06-02 00:58:12</td>\n",
       "      <td>3100bd7e-f758-4a55-8f24-d23476943aef</td>\n",
       "      <td>https://s3.ritm.media/yappy-db-duplicates/3100...</td>\n",
       "      <td>False</td>\n",
       "      <td>NaN</td>\n",
       "      <td>False</td>\n",
       "    </tr>\n",
       "    <tr>\n",
       "      <th>240</th>\n",
       "      <td>2024-06-02 01:14:20</td>\n",
       "      <td>99c8cd59-5995-4981-8346-460d40e4eed3</td>\n",
       "      <td>https://s3.ritm.media/yappy-db-duplicates/99c8...</td>\n",
       "      <td>True</td>\n",
       "      <td>1a713f01-e2e1-48e8-83f3-2c90938ba197</td>\n",
       "      <td>False</td>\n",
       "    </tr>\n",
       "    <tr>\n",
       "      <th>241</th>\n",
       "      <td>2024-06-02 01:24:36</td>\n",
       "      <td>2f056c14-46a3-4222-81af-9a962d31fd19</td>\n",
       "      <td>https://s3.ritm.media/yappy-db-duplicates/2f05...</td>\n",
       "      <td>False</td>\n",
       "      <td>NaN</td>\n",
       "      <td>False</td>\n",
       "    </tr>\n",
       "    <tr>\n",
       "      <th>242</th>\n",
       "      <td>2024-06-02 01:34:16</td>\n",
       "      <td>3e0e425f-9c4e-4f6e-a618-500e0883ec4d</td>\n",
       "      <td>https://s3.ritm.media/yappy-db-duplicates/3e0e...</td>\n",
       "      <td>False</td>\n",
       "      <td>NaN</td>\n",
       "      <td>False</td>\n",
       "    </tr>\n",
       "    <tr>\n",
       "      <th>243</th>\n",
       "      <td>2024-06-02 01:43:34</td>\n",
       "      <td>3ebe7cda-0885-4f5a-af13-8635697fb9f3</td>\n",
       "      <td>https://s3.ritm.media/yappy-db-duplicates/3ebe...</td>\n",
       "      <td>False</td>\n",
       "      <td>NaN</td>\n",
       "      <td>False</td>\n",
       "    </tr>\n",
       "    <tr>\n",
       "      <th>244</th>\n",
       "      <td>2024-06-02 01:47:22</td>\n",
       "      <td>2d60d377-b4f3-4f7c-b1b8-ce8bd22184f6</td>\n",
       "      <td>https://s3.ritm.media/yappy-db-duplicates/2d60...</td>\n",
       "      <td>False</td>\n",
       "      <td>NaN</td>\n",
       "      <td>False</td>\n",
       "    </tr>\n",
       "    <tr>\n",
       "      <th>245</th>\n",
       "      <td>2024-06-02 01:51:38</td>\n",
       "      <td>2f2928c2-a672-41fb-a951-d29643aabd46</td>\n",
       "      <td>https://s3.ritm.media/yappy-db-duplicates/2f29...</td>\n",
       "      <td>False</td>\n",
       "      <td>NaN</td>\n",
       "      <td>False</td>\n",
       "    </tr>\n",
       "    <tr>\n",
       "      <th>246</th>\n",
       "      <td>2024-06-02 01:51:47</td>\n",
       "      <td>14432499-0a67-4ba9-b414-7e9a74f7d2a4</td>\n",
       "      <td>https://s3.ritm.media/yappy-db-duplicates/1443...</td>\n",
       "      <td>False</td>\n",
       "      <td>NaN</td>\n",
       "      <td>False</td>\n",
       "    </tr>\n",
       "    <tr>\n",
       "      <th>247</th>\n",
       "      <td>2024-06-02 01:52:55</td>\n",
       "      <td>1be6d7c7-b79f-48ba-b98c-7bcc502188aa</td>\n",
       "      <td>https://s3.ritm.media/yappy-db-duplicates/1be6...</td>\n",
       "      <td>False</td>\n",
       "      <td>NaN</td>\n",
       "      <td>False</td>\n",
       "    </tr>\n",
       "    <tr>\n",
       "      <th>248</th>\n",
       "      <td>2024-06-02 01:58:43</td>\n",
       "      <td>1449c98f-8d76-4e89-950a-7db1680e596d</td>\n",
       "      <td>https://s3.ritm.media/yappy-db-duplicates/1449...</td>\n",
       "      <td>False</td>\n",
       "      <td>NaN</td>\n",
       "      <td>False</td>\n",
       "    </tr>\n",
       "    <tr>\n",
       "      <th>249</th>\n",
       "      <td>2024-06-02 01:59:52</td>\n",
       "      <td>14f09b03-8d20-48af-9493-aa1eb0e2291e</td>\n",
       "      <td>https://s3.ritm.media/yappy-db-duplicates/14f0...</td>\n",
       "      <td>False</td>\n",
       "      <td>NaN</td>\n",
       "      <td>False</td>\n",
       "    </tr>\n",
       "  </tbody>\n",
       "</table>\n",
       "</div>"
      ],
      "text/plain": [
       "                 created  ... is_hard\n",
       "210  2024-06-01 22:00:53  ...   False\n",
       "211  2024-06-01 22:03:27  ...    True\n",
       "212  2024-06-01 22:04:03  ...   False\n",
       "213  2024-06-01 22:23:39  ...   False\n",
       "214  2024-06-01 22:34:14  ...   False\n",
       "215  2024-06-01 22:40:08  ...   False\n",
       "216  2024-06-01 22:47:05  ...   False\n",
       "217  2024-06-01 22:50:24  ...   False\n",
       "218  2024-06-01 22:56:51  ...   False\n",
       "219  2024-06-01 23:06:34  ...   False\n",
       "220  2024-06-01 23:09:09  ...   False\n",
       "221  2024-06-01 23:12:31  ...   False\n",
       "222  2024-06-01 23:21:16  ...   False\n",
       "223  2024-06-01 23:22:43  ...   False\n",
       "224  2024-06-01 23:27:53  ...   False\n",
       "225  2024-06-01 23:49:14  ...   False\n",
       "226  2024-06-02 00:01:14  ...   False\n",
       "227  2024-06-02 00:04:33  ...   False\n",
       "228  2024-06-02 00:09:57  ...   False\n",
       "229  2024-06-02 00:13:11  ...   False\n",
       "230  2024-06-02 00:14:26  ...   False\n",
       "231  2024-06-02 00:21:34  ...   False\n",
       "232  2024-06-02 00:25:36  ...   False\n",
       "233  2024-06-02 00:35:18  ...   False\n",
       "234  2024-06-02 00:35:45  ...   False\n",
       "235  2024-06-02 00:38:04  ...   False\n",
       "236  2024-06-02 00:44:18  ...   False\n",
       "237  2024-06-02 00:51:44  ...   False\n",
       "238  2024-06-02 00:52:03  ...   False\n",
       "239  2024-06-02 00:58:12  ...   False\n",
       "240  2024-06-02 01:14:20  ...   False\n",
       "241  2024-06-02 01:24:36  ...   False\n",
       "242  2024-06-02 01:34:16  ...   False\n",
       "243  2024-06-02 01:43:34  ...   False\n",
       "244  2024-06-02 01:47:22  ...   False\n",
       "245  2024-06-02 01:51:38  ...   False\n",
       "246  2024-06-02 01:51:47  ...   False\n",
       "247  2024-06-02 01:52:55  ...   False\n",
       "248  2024-06-02 01:58:43  ...   False\n",
       "249  2024-06-02 01:59:52  ...   False\n",
       "\n",
       "[40 rows x 6 columns]"
      ]
     },
     "execution_count": 17,
     "metadata": {},
     "output_type": "execute_result"
    }
   ],
   "source": [
    "df.iloc[210:250]"
   ]
  },
  {
   "cell_type": "code",
   "execution_count": null,
   "id": "00ebed24-4a62-43de-a161-8accb04730c2",
   "metadata": {},
   "outputs": [],
   "source": []
  },
  {
   "cell_type": "code",
   "execution_count": null,
   "id": "5a69eef3-7097-4516-979b-b186f3e8f106",
   "metadata": {},
   "outputs": [],
   "source": []
  },
  {
   "cell_type": "code",
   "execution_count": 2,
   "id": "fc8278a6-501e-46f4-af82-bd1ce1666608",
   "metadata": {
    "execution": {
     "iopub.execute_input": "2024-09-28T02:11:56.984715Z",
     "iopub.status.busy": "2024-09-28T02:11:56.983801Z",
     "iopub.status.idle": "2024-09-28T02:11:57.000160Z",
     "shell.execute_reply": "2024-09-28T02:11:56.999372Z",
     "shell.execute_reply.started": "2024-09-28T02:11:56.984687Z"
    },
    "tags": []
   },
   "outputs": [],
   "source": [
    "import os"
   ]
  },
  {
   "cell_type": "markdown",
   "id": "b5912a36-297f-44ef-9acc-a02686d2d600",
   "metadata": {
    "execution": {
     "iopub.execute_input": "2024-09-27T20:42:37.034788Z",
     "iopub.status.busy": "2024-09-27T20:42:37.031547Z",
     "iopub.status.idle": "2024-09-27T20:42:37.050365Z",
     "shell.execute_reply": "2024-09-27T20:42:37.049536Z",
     "shell.execute_reply.started": "2024-09-27T20:42:37.034739Z"
    }
   },
   "source": [
    "## скачивание видео"
   ]
  },
  {
   "cell_type": "code",
   "execution_count": null,
   "id": "20585b5f-04ab-44e9-8eb3-984f2bf61b90",
   "metadata": {},
   "outputs": [],
   "source": []
  },
  {
   "cell_type": "code",
   "execution_count": 3,
   "id": "d8c8f980-bc19-49f0-a7ac-2a0c708564ae",
   "metadata": {
    "execution": {
     "iopub.execute_input": "2024-09-28T02:11:57.002275Z",
     "iopub.status.busy": "2024-09-28T02:11:57.001296Z",
     "iopub.status.idle": "2024-09-28T02:11:57.013265Z",
     "shell.execute_reply": "2024-09-28T02:11:57.012626Z",
     "shell.execute_reply.started": "2024-09-28T02:11:57.002242Z"
    },
    "tags": []
   },
   "outputs": [],
   "source": [
    "# import pandas as pd\n",
    "# import requests\n",
    "# from pathlib import Path\n",
    "# from concurrent.futures import ThreadPoolExecutor\n",
    "\n",
    "# def download_video(link, output_dir):\n",
    "#     \"\"\"Загружает видео по ссылке и сохраняет его в указанную папку.\"\"\"\n",
    "\n",
    "#     filename = link.split('/')[-1]\n",
    "#     try:\n",
    "#         response = requests.get(link, stream=True)\n",
    "#         response.raise_for_status()\n",
    "\n",
    "#         with open(f'{output_dir}/{filename}', 'wb') as f:\n",
    "#             for chunk in response.iter_content(chunk_size=1024 * 1024):\n",
    "#                 if chunk:\n",
    "#                     f.write(chunk)\n",
    "\n",
    "#         print(f'Видео {filename} успешно сохранено.')\n",
    "\n",
    "#     except requests.exceptions.RequestException as e:\n",
    "#         print(f'Ошибка загрузки видео {filename}: {e}')\n",
    "\n",
    "# def download_videos(links, output_dir, max_workers=5):\n",
    "#     \"\"\"Загружает видео по ссылкам из DataFrame с использованием многопотока.\n",
    "\n",
    "#     Args:\n",
    "#         df: DataFrame с колонкой 'link', содержащей ссылки на видео.\n",
    "#         output_dir: Путь к папке для сохранения видео.\n",
    "#         max_workers: Максимальное количество потоков (по умолчанию 5).\n",
    "#     \"\"\"\n",
    "    \n",
    "#     # Создаем папку, если ее нет\n",
    "#     Path(output_dir).mkdir(parents=True, exist_ok=True)\n",
    "\n",
    "#     with ThreadPoolExecutor(max_workers=max_workers) as executor:\n",
    "#         for index, link in enumerate(links):\n",
    "#             executor.submit(download_video, link, output_dir)\n",
    "\n",
    "\n",
    "# download_videos(links, 'downloaded_videos')\n"
   ]
  },
  {
   "cell_type": "code",
   "execution_count": null,
   "id": "1c10a410-759b-4539-aa2f-ffcceebcd08f",
   "metadata": {},
   "outputs": [],
   "source": []
  },
  {
   "cell_type": "markdown",
   "id": "601716bc-4d87-465f-ba89-31fd9dadac70",
   "metadata": {},
   "source": [
    "## подгружаем валидацию"
   ]
  },
  {
   "cell_type": "code",
   "execution_count": 4,
   "id": "855b8d1b-2ff9-47df-9846-3592940208db",
   "metadata": {
    "execution": {
     "iopub.execute_input": "2024-09-28T02:11:57.015823Z",
     "iopub.status.busy": "2024-09-28T02:11:57.015017Z",
     "iopub.status.idle": "2024-09-28T02:11:57.038059Z",
     "shell.execute_reply": "2024-09-28T02:11:57.037404Z",
     "shell.execute_reply.started": "2024-09-28T02:11:57.015786Z"
    },
    "tags": []
   },
   "outputs": [],
   "source": [
    "df_train_valid = pd.read_csv(\"cp_vseros_train_1000.csv\", index_col=0)"
   ]
  },
  {
   "cell_type": "code",
   "execution_count": 5,
   "id": "6ad66a46-2bab-43ab-90cf-af411f963dc9",
   "metadata": {
    "execution": {
     "iopub.execute_input": "2024-09-28T02:11:57.039849Z",
     "iopub.status.busy": "2024-09-28T02:11:57.038994Z",
     "iopub.status.idle": "2024-09-28T02:11:57.096495Z",
     "shell.execute_reply": "2024-09-28T02:11:57.095450Z",
     "shell.execute_reply.started": "2024-09-28T02:11:57.039813Z"
    },
    "tags": []
   },
   "outputs": [
    {
     "data": {
      "text/plain": [
       "True"
      ]
     },
     "execution_count": 5,
     "metadata": {},
     "output_type": "execute_result"
    }
   ],
   "source": [
    "from glob import glob\n",
    "downloaded_video_names = glob(\"downloaded_videos/*\")\n",
    "need_video_path = [f\"downloaded_videos/{i}.mp4\" for i in df_train_valid[\"uuid\"].tolist()]\n",
    "\n",
    "len(set(downloaded_video_names) & set(need_video_path)) == len(need_video_path)"
   ]
  },
  {
   "cell_type": "code",
   "execution_count": null,
   "id": "15d3fbef-47db-43a1-b935-050bbbb9d8dd",
   "metadata": {},
   "outputs": [],
   "source": []
  },
  {
   "cell_type": "code",
   "execution_count": 6,
   "id": "40d6e895-535d-494c-83f1-61e054851713",
   "metadata": {
    "execution": {
     "iopub.execute_input": "2024-09-28T02:11:57.098908Z",
     "iopub.status.busy": "2024-09-28T02:11:57.097730Z",
     "iopub.status.idle": "2024-09-28T02:11:57.176906Z",
     "shell.execute_reply": "2024-09-28T02:11:57.176101Z",
     "shell.execute_reply.started": "2024-09-28T02:11:57.098869Z"
    },
    "tags": []
   },
   "outputs": [],
   "source": [
    "# !git clone https://github.com/gkordo/s2vs.git\n",
    "# %pip install -r s2vs/requirements.txt"
   ]
  },
  {
   "cell_type": "markdown",
   "id": "34c3df08-c409-401a-a076-4c42fdcb0732",
   "metadata": {
    "execution": {
     "iopub.execute_input": "2024-09-27T21:22:59.389707Z",
     "iopub.status.busy": "2024-09-27T21:22:59.388781Z",
     "iopub.status.idle": "2024-09-27T21:22:59.441010Z",
     "shell.execute_reply": "2024-09-27T21:22:59.440202Z",
     "shell.execute_reply.started": "2024-09-27T21:22:59.389665Z"
    }
   },
   "source": [
    "## используем модельку"
   ]
  },
  {
   "cell_type": "code",
   "execution_count": 7,
   "id": "3bf05b3c-67b4-44ef-a28c-eb4106c39e7e",
   "metadata": {
    "execution": {
     "iopub.execute_input": "2024-09-28T02:11:57.178745Z",
     "iopub.status.busy": "2024-09-28T02:11:57.177963Z",
     "iopub.status.idle": "2024-09-28T02:12:00.102014Z",
     "shell.execute_reply": "2024-09-28T02:12:00.101034Z",
     "shell.execute_reply.started": "2024-09-28T02:11:57.178712Z"
    },
    "tags": []
   },
   "outputs": [],
   "source": [
    "import torchvision\n",
    "import torch\n",
    "from s2vs.utils import animate, load_video_opencv"
   ]
  },
  {
   "cell_type": "code",
   "execution_count": 51,
   "id": "4679a3e9-7ba5-4fdc-8cd6-cd7da879b753",
   "metadata": {
    "execution": {
     "iopub.execute_input": "2024-09-28T02:46:49.483649Z",
     "iopub.status.busy": "2024-09-28T02:46:49.482601Z",
     "iopub.status.idle": "2024-09-28T02:46:51.322514Z",
     "shell.execute_reply": "2024-09-28T02:46:51.321603Z",
     "shell.execute_reply.started": "2024-09-28T02:46:49.483606Z"
    },
    "tags": []
   },
   "outputs": [
    {
     "name": "stderr",
     "output_type": "stream",
     "text": [
      "Using cache found in /tmp/xdg_cache/torch/hub/gkordo_s2vs_main\n",
      "/usr/local/lib/python3.10/dist-packages/torchvision/models/_utils.py:208: UserWarning: The parameter 'pretrained' is deprecated since 0.13 and may be removed in the future, please use 'weights' instead.\n",
      "  warnings.warn(\n",
      "/usr/local/lib/python3.10/dist-packages/torchvision/models/_utils.py:223: UserWarning: Arguments other than a weight enum or `None` for 'weights' are deprecated since 0.13 and may be removed in the future. The current behavior is equivalent to passing `weights=ResNet50_Weights.IMAGENET1K_V1`. You can also use `weights=ResNet50_Weights.DEFAULT` to get the most up-to-date weights.\n",
      "  warnings.warn(msg)\n",
      "Using cache found in /tmp/xdg_cache/torch/hub/gkordo_s2vs_main\n",
      "Downloading: \"https://mever.iti.gr/s2vs/weights/s2vs_vcdb.pth\" to /tmp/xdg_cache/torch/hub/checkpoints/s2vs_vcdb.pth\n",
      "100%|██████████| 1.36M/1.36M [00:00<00:00, 4.15MB/s]\n"
     ]
    }
   ],
   "source": [
    "device = \"cuda\"\n",
    "feat_extractor = torch.hub.load('gkordo/s2vs:main', 'resnet50_LiMAC').eval().to(device)\n",
    "# sim_model = torch.hub.load('gkordo/s2vs:main', 's2vs_dns').eval().to(device)\n",
    "sim_model = torch.hub.load('gkordo/s2vs:main', 's2vs_vcdb').eval().to(device)"
   ]
  },
  {
   "cell_type": "code",
   "execution_count": null,
   "id": "ba078f76-59a1-44ef-9c56-d3a6f1df5105",
   "metadata": {},
   "outputs": [],
   "source": []
  },
  {
   "cell_type": "code",
   "execution_count": null,
   "id": "649ea8b2-f36a-4362-bf6a-28b1e93f8984",
   "metadata": {},
   "outputs": [],
   "source": []
  },
  {
   "cell_type": "code",
   "execution_count": 9,
   "id": "f62a4a5f-2316-4f21-bf84-7781826edd66",
   "metadata": {
    "execution": {
     "iopub.execute_input": "2024-09-28T02:15:09.379295Z",
     "iopub.status.busy": "2024-09-28T02:15:09.377964Z",
     "iopub.status.idle": "2024-09-28T02:15:09.425611Z",
     "shell.execute_reply": "2024-09-28T02:15:09.424726Z",
     "shell.execute_reply.started": "2024-09-28T02:15:09.379252Z"
    },
    "tags": []
   },
   "outputs": [],
   "source": [
    "def get_feature_for_video(feat_extractor, video_path, device=\"cuda\", return_mean_features=True):\n",
    "    video_example = torch.FloatTensor(load_video_opencv(video_path, fps=1, resize=256)).to(device)\n",
    "    model_features = feat_extractor(video_example)\n",
    "    \n",
    "    # if return_mean_features:\n",
    "        # model_features = model_features.mean(axis=0)\n",
    "    \n",
    "    del video_example\n",
    "    return model_features"
   ]
  },
  {
   "cell_type": "code",
   "execution_count": null,
   "id": "ef26067b-0f2d-45cf-8153-c4404491887d",
   "metadata": {},
   "outputs": [],
   "source": []
  },
  {
   "cell_type": "code",
   "execution_count": null,
   "id": "5e370d42-8121-4c4f-8ed5-9277c05f92ae",
   "metadata": {},
   "outputs": [],
   "source": []
  },
  {
   "cell_type": "code",
   "execution_count": null,
   "id": "546f5260-a68d-45bf-8a85-17f169c4b9e6",
   "metadata": {},
   "outputs": [],
   "source": []
  },
  {
   "cell_type": "code",
   "execution_count": 10,
   "id": "516f00d8-9ad6-4078-8c3f-e7490da39419",
   "metadata": {
    "execution": {
     "iopub.execute_input": "2024-09-28T02:15:11.321109Z",
     "iopub.status.busy": "2024-09-28T02:15:11.320110Z",
     "iopub.status.idle": "2024-09-28T02:15:11.345442Z",
     "shell.execute_reply": "2024-09-28T02:15:11.344578Z",
     "shell.execute_reply.started": "2024-09-28T02:15:11.321069Z"
    },
    "tags": []
   },
   "outputs": [],
   "source": [
    "from s2vs import utils"
   ]
  },
  {
   "cell_type": "code",
   "execution_count": 11,
   "id": "4a2bfe78-f225-42f9-9457-8575c29eb589",
   "metadata": {
    "execution": {
     "iopub.execute_input": "2024-09-28T02:15:11.589489Z",
     "iopub.status.busy": "2024-09-28T02:15:11.588662Z",
     "iopub.status.idle": "2024-09-28T02:15:11.608229Z",
     "shell.execute_reply": "2024-09-28T02:15:11.607383Z",
     "shell.execute_reply.started": "2024-09-28T02:15:11.589445Z"
    },
    "tags": []
   },
   "outputs": [],
   "source": [
    "def load_video(video_path):\n",
    "    video = load_video_opencv(video_path, fps=1, resize=256)\n",
    "    return torch.from_numpy(video).to(device)"
   ]
  },
  {
   "cell_type": "code",
   "execution_count": 12,
   "id": "1255dc02-bac6-4a53-99cd-e7b8628cc7f2",
   "metadata": {
    "execution": {
     "iopub.execute_input": "2024-09-28T02:15:11.992856Z",
     "iopub.status.busy": "2024-09-28T02:15:11.991799Z",
     "iopub.status.idle": "2024-09-28T02:15:12.007756Z",
     "shell.execute_reply": "2024-09-28T02:15:12.006907Z",
     "shell.execute_reply.started": "2024-09-28T02:15:11.992809Z"
    },
    "tags": []
   },
   "outputs": [],
   "source": [
    "@torch.no_grad()\n",
    "def extract_features(feat_ext, video, batch_sz=1024, gpu_id=0, min_len=4):\n",
    "    with torch.cuda.amp.autocast():\n",
    "        features = [feat_ext(batch.to(gpu_id)) for batch in utils.batching(video, batch_sz)]\n",
    "        features = torch.cat(features, 0)\n",
    "        while features.shape[0] < min_len:\n",
    "            features = torch.cat([features, features], 0)\n",
    "    return features"
   ]
  },
  {
   "cell_type": "code",
   "execution_count": 13,
   "id": "65f1c3eb-4c90-4ddd-bacf-66c1c10631e5",
   "metadata": {
    "execution": {
     "iopub.execute_input": "2024-09-28T02:15:12.995093Z",
     "iopub.status.busy": "2024-09-28T02:15:12.993963Z",
     "iopub.status.idle": "2024-09-28T02:15:13.028976Z",
     "shell.execute_reply": "2024-09-28T02:15:13.028052Z",
     "shell.execute_reply.started": "2024-09-28T02:15:12.995052Z"
    },
    "tags": []
   },
   "outputs": [],
   "source": [
    "@torch.no_grad()\n",
    "def calculate_similarities_to_queries(model, queries, target, gpu_id=0, apply_visil=True):\n",
    "    similarities = []\n",
    "    batch_sz = 2048\n",
    "    \n",
    "    for i, query in enumerate(queries):\n",
    "        if query.device.type == 'cpu':\n",
    "            query = query.to(gpu_id)\n",
    "        sim = []\n",
    "        for batch in utils.batching(target, batch_sz):\n",
    "            sim.append(model.calculate_video_similarity(query, batch, apply_visil=not apply_visil))\n",
    "        sim = torch.mean(torch.cat(sim, 0))\n",
    "        similarities.append(sim.cpu().numpy())\n",
    "    return similarities "
   ]
  },
  {
   "cell_type": "code",
   "execution_count": null,
   "id": "acd50de2-138f-43fd-8f7d-7598c1e83c2e",
   "metadata": {},
   "outputs": [],
   "source": []
  },
  {
   "cell_type": "code",
   "execution_count": 14,
   "id": "17383409-74d5-4394-aa40-d9f086c59d33",
   "metadata": {
    "execution": {
     "iopub.execute_input": "2024-09-28T02:15:14.498623Z",
     "iopub.status.busy": "2024-09-28T02:15:14.497590Z",
     "iopub.status.idle": "2024-09-28T02:15:15.797793Z",
     "shell.execute_reply": "2024-09-28T02:15:15.796912Z",
     "shell.execute_reply.started": "2024-09-28T02:15:14.498583Z"
    },
    "tags": []
   },
   "outputs": [],
   "source": [
    "video_path = list(downloaded_video_names)[0]\n",
    "video_tensor = load_video(video_path)\n",
    "features = extract_features(feat_extractor, video_tensor, 8)"
   ]
  },
  {
   "cell_type": "code",
   "execution_count": null,
   "id": "e1367de4-d165-4df1-b18a-1e72e66701a8",
   "metadata": {},
   "outputs": [],
   "source": []
  },
  {
   "cell_type": "code",
   "execution_count": 117,
   "id": "0e1ce4dc-6e8c-4378-ab54-1b4da498660b",
   "metadata": {
    "execution": {
     "iopub.execute_input": "2024-09-28T00:56:21.251715Z",
     "iopub.status.busy": "2024-09-28T00:56:21.250592Z",
     "iopub.status.idle": "2024-09-28T00:56:21.265147Z",
     "shell.execute_reply": "2024-09-28T00:56:21.264401Z",
     "shell.execute_reply.started": "2024-09-28T00:56:21.251670Z"
    },
    "tags": []
   },
   "outputs": [],
   "source": [
    "# video_path = list(downloaded_video_names)[0]\n",
    "# feature_1 = get_feature_for_video(feat_extractor, video_path).to(device)"
   ]
  },
  {
   "cell_type": "code",
   "execution_count": null,
   "id": "51561a45-dbcb-4df3-94a5-a1d1c20f99cd",
   "metadata": {},
   "outputs": [],
   "source": []
  },
  {
   "cell_type": "code",
   "execution_count": 118,
   "id": "ab5854a4-67ff-4f87-8910-4218bf328cdc",
   "metadata": {
    "execution": {
     "iopub.execute_input": "2024-09-28T00:56:21.551629Z",
     "iopub.status.busy": "2024-09-28T00:56:21.550606Z",
     "iopub.status.idle": "2024-09-28T00:56:21.562643Z",
     "shell.execute_reply": "2024-09-28T00:56:21.561944Z",
     "shell.execute_reply.started": "2024-09-28T00:56:21.551585Z"
    },
    "tags": []
   },
   "outputs": [],
   "source": [
    "# # test indexing speed\n",
    "# for i in tqdm(range(100)):\n",
    "#     get_feature_for_video(feat_extractor, list(downloaded_video_names)[i]) "
   ]
  },
  {
   "cell_type": "code",
   "execution_count": 119,
   "id": "28ada4e5-8a1f-489b-b962-5200197ff985",
   "metadata": {
    "execution": {
     "iopub.execute_input": "2024-09-28T00:56:21.767072Z",
     "iopub.status.busy": "2024-09-28T00:56:21.765910Z",
     "iopub.status.idle": "2024-09-28T00:56:21.777230Z",
     "shell.execute_reply": "2024-09-28T00:56:21.776485Z",
     "shell.execute_reply.started": "2024-09-28T00:56:21.767028Z"
    },
    "tags": []
   },
   "outputs": [],
   "source": [
    "# # batch not working!\n",
    "# t = [load_video_opencv(downloaded_video_names[0], fps=1, resize=256) for i in range(5)]\n",
    "# batch_example = torch.FloatTensor(t)\n",
    "# batch_example = batch_example.to(\"cuda\")\n",
    "# t = feat_extractor(batch_example)"
   ]
  },
  {
   "cell_type": "code",
   "execution_count": null,
   "id": "7e6954d8-e60d-462d-b4a5-10160ebbbd28",
   "metadata": {},
   "outputs": [],
   "source": []
  },
  {
   "cell_type": "markdown",
   "id": "8c5dc295-9401-4425-83c7-0ed7ea85e8bf",
   "metadata": {
    "execution": {
     "iopub.execute_input": "2024-09-27T21:36:17.350417Z",
     "iopub.status.busy": "2024-09-27T21:36:17.349902Z",
     "iopub.status.idle": "2024-09-27T21:36:17.365358Z",
     "shell.execute_reply": "2024-09-27T21:36:17.364714Z",
     "shell.execute_reply.started": "2024-09-27T21:36:17.350380Z"
    }
   },
   "source": [
    "## индексирование"
   ]
  },
  {
   "cell_type": "code",
   "execution_count": 52,
   "id": "ac51468a-7ce3-4a5e-a52b-dbdc9ba58023",
   "metadata": {
    "execution": {
     "iopub.execute_input": "2024-09-28T02:46:55.929735Z",
     "iopub.status.busy": "2024-09-28T02:46:55.928739Z",
     "iopub.status.idle": "2024-09-28T02:46:55.945787Z",
     "shell.execute_reply": "2024-09-28T02:46:55.944904Z",
     "shell.execute_reply.started": "2024-09-28T02:46:55.929691Z"
    },
    "tags": []
   },
   "outputs": [],
   "source": [
    "features_only = False"
   ]
  },
  {
   "cell_type": "code",
   "execution_count": 53,
   "id": "1dfda048-4a25-464a-a5dc-b121271cfb13",
   "metadata": {
    "execution": {
     "iopub.execute_input": "2024-09-28T02:46:56.170354Z",
     "iopub.status.busy": "2024-09-28T02:46:56.169244Z",
     "iopub.status.idle": "2024-09-28T02:46:56.198192Z",
     "shell.execute_reply": "2024-09-28T02:46:56.197385Z",
     "shell.execute_reply.started": "2024-09-28T02:46:56.170310Z"
    },
    "tags": []
   },
   "outputs": [],
   "source": [
    "from tqdm import tqdm"
   ]
  },
  {
   "cell_type": "code",
   "execution_count": 54,
   "id": "59e7d764-197b-41c9-9e01-d49247a84685",
   "metadata": {
    "execution": {
     "iopub.execute_input": "2024-09-28T02:46:56.644086Z",
     "iopub.status.busy": "2024-09-28T02:46:56.642901Z",
     "iopub.status.idle": "2024-09-28T02:46:56.656331Z",
     "shell.execute_reply": "2024-09-28T02:46:56.655519Z",
     "shell.execute_reply.started": "2024-09-28T02:46:56.644044Z"
    },
    "tags": []
   },
   "outputs": [],
   "source": [
    "import pickle"
   ]
  },
  {
   "cell_type": "code",
   "execution_count": 55,
   "id": "f5b11041-87ac-40c9-b606-62cf4a62a24c",
   "metadata": {
    "execution": {
     "iopub.execute_input": "2024-09-28T02:47:04.081604Z",
     "iopub.status.busy": "2024-09-28T02:47:04.080622Z",
     "iopub.status.idle": "2024-09-28T03:06:33.838367Z",
     "shell.execute_reply": "2024-09-28T03:06:33.837509Z",
     "shell.execute_reply.started": "2024-09-28T02:47:04.081562Z"
    },
    "tags": []
   },
   "outputs": [
    {
     "name": "stderr",
     "output_type": "stream",
     "text": [
      "312it [06:09,  1.35s/it][NULL @ 0x558367e9d840] Invalid NAL unit size (0 > 11395).\n",
      "[NULL @ 0x558367e9d840] missing picture in access unit with size 11399\n",
      "[h264 @ 0x55835f5be040] Invalid NAL unit size (0 > 11395).\n",
      "[h264 @ 0x55835f5be040] Error splitting the input into NAL units.\n",
      "[NULL @ 0x558367e9d840] Invalid NAL unit size (0 > 11898).\n",
      "[NULL @ 0x558367e9d840] missing picture in access unit with size 11902\n",
      "[h264 @ 0x55835f4a8a80] Invalid NAL unit size (0 > 11898).\n",
      "[h264 @ 0x55835f4a8a80] Error splitting the input into NAL units.\n",
      "[h264 @ 0x55838143cfc0] error while decoding MB 21 28, bytestream -5\n",
      "[NULL @ 0x558367e9d840] Invalid NAL unit size (0 > 11463).\n",
      "[NULL @ 0x558367e9d840] missing picture in access unit with size 11467\n",
      "[h264 @ 0x55837f4cea80] Invalid NAL unit size (0 > 11463).\n",
      "[h264 @ 0x55837f4cea80] Error splitting the input into NAL units.\n",
      "[NULL @ 0x558367e9d840] Invalid NAL unit size (0 > 11420).\n",
      "[NULL @ 0x558367e9d840] missing picture in access unit with size 11424\n",
      "[h264 @ 0x55838143cfc0] Invalid NAL unit size (0 > 11420).\n",
      "[h264 @ 0x55838143cfc0] Error splitting the input into NAL units.\n",
      "[NULL @ 0x558367e9d840] Invalid NAL unit size (0 > 12026).\n",
      "[NULL @ 0x558367e9d840] missing picture in access unit with size 12030\n",
      "[NULL @ 0x558367e9d840] Invalid NAL unit size (0 > 19721).\n",
      "[NULL @ 0x558367e9d840] missing picture in access unit with size 19725\n",
      "[h264 @ 0x55835f5be040] Invalid NAL unit size (0 > 12026).\n",
      "[h264 @ 0x55835f5be040] Error splitting the input into NAL units.\n",
      "[NULL @ 0x558367e9d840] Invalid NAL unit size (0 > 11358).\n",
      "[NULL @ 0x558367e9d840] missing picture in access unit with size 11362\n",
      "[h264 @ 0x55835f4a8a80] Invalid NAL unit size (0 > 19721).\n",
      "[h264 @ 0x55835f4a8a80] Error splitting the input into NAL units.\n",
      "[h264 @ 0x55837f4cea80] Invalid NAL unit size (0 > 11358).\n",
      "[h264 @ 0x55837f4cea80] Error splitting the input into NAL units.\n",
      "[NULL @ 0x558367e9d840] Invalid NAL unit size (0 > 11508).\n",
      "[NULL @ 0x558367e9d840] missing picture in access unit with size 11512\n",
      "[h264 @ 0x55838143cfc0] Invalid NAL unit size (0 > 11508).\n",
      "[h264 @ 0x55838143cfc0] Error splitting the input into NAL units.\n",
      "[NULL @ 0x558367e9d840] Invalid NAL unit size (0 > 10252).\n",
      "[NULL @ 0x558367e9d840] missing picture in access unit with size 10256\n",
      "[h264 @ 0x55835f5be040] Invalid NAL unit size (0 > 10252).\n",
      "[h264 @ 0x55835f5be040] Error splitting the input into NAL units.\n",
      "[NULL @ 0x558367e9d840] Invalid NAL unit size (0 > 9955).\n",
      "[NULL @ 0x558367e9d840] missing picture in access unit with size 9959\n",
      "[h264 @ 0x55835f4a8a80] Invalid NAL unit size (0 > 9955).\n",
      "[h264 @ 0x55835f4a8a80] Error splitting the input into NAL units.\n",
      "[NULL @ 0x558367e9d840] Invalid NAL unit size (0 > 8761).\n",
      "[NULL @ 0x558367e9d840] missing picture in access unit with size 8765\n",
      "[h264 @ 0x55837f4cea80] Invalid NAL unit size (0 > 8761).\n",
      "[h264 @ 0x55837f4cea80] Error splitting the input into NAL units.\n",
      "[NULL @ 0x558367e9d840] Invalid NAL unit size (0 > 8882).\n",
      "[NULL @ 0x558367e9d840] missing picture in access unit with size 8886\n",
      "[h264 @ 0x55838143cfc0] Invalid NAL unit size (0 > 8882).\n",
      "[h264 @ 0x55838143cfc0] Error splitting the input into NAL units.\n",
      "[NULL @ 0x558367e9d840] Invalid NAL unit size (0 > 8047).\n",
      "[NULL @ 0x558367e9d840] missing picture in access unit with size 8051\n",
      "[h264 @ 0x55835f5be040] Invalid NAL unit size (0 > 8047).\n",
      "[h264 @ 0x55835f5be040] Error splitting the input into NAL units.\n",
      "[NULL @ 0x558367e9d840] Invalid NAL unit size (0 > 11317).\n",
      "[NULL @ 0x558367e9d840] missing picture in access unit with size 11321\n",
      "[h264 @ 0x55835f4a8a80] Invalid NAL unit size (0 > 11317).\n",
      "[h264 @ 0x55835f4a8a80] Error splitting the input into NAL units.\n",
      "[NULL @ 0x558367e9d840] Invalid NAL unit size (0 > 8580).\n",
      "[NULL @ 0x558367e9d840] missing picture in access unit with size 8584\n",
      "[NULL @ 0x558367e9d840] Invalid NAL unit size (0 > 8988).\n",
      "[NULL @ 0x558367e9d840] missing picture in access unit with size 8992\n",
      "[h264 @ 0x55837f4cea80] Invalid NAL unit size (0 > 8580).\n",
      "[h264 @ 0x55837f4cea80] Error splitting the input into NAL units.\n",
      "[h264 @ 0x55838143cfc0] Invalid NAL unit size (0 > 8988).\n",
      "[h264 @ 0x55838143cfc0] Error splitting the input into NAL units.\n",
      "[NULL @ 0x558367e9d840] Invalid NAL unit size (0 > 8285).\n",
      "[NULL @ 0x558367e9d840] missing picture in access unit with size 8289\n",
      "[h264 @ 0x55835f5be040] Invalid NAL unit size (0 > 8285).\n",
      "[h264 @ 0x55835f5be040] Error splitting the input into NAL units.\n",
      "[NULL @ 0x558367e9d840] Invalid NAL unit size (0 > 9594).\n",
      "[NULL @ 0x558367e9d840] missing picture in access unit with size 9598\n",
      "[h264 @ 0x55835f4a8a80] Invalid NAL unit size (0 > 9594).\n",
      "[h264 @ 0x55835f4a8a80] Error splitting the input into NAL units.\n",
      "[NULL @ 0x558367e9d840] Invalid NAL unit size (0 > 9232).\n",
      "[NULL @ 0x558367e9d840] missing picture in access unit with size 9236\n",
      "[h264 @ 0x55837f4cea80] Invalid NAL unit size (0 > 9232).\n",
      "[h264 @ 0x55837f4cea80] Error splitting the input into NAL units.\n",
      "[NULL @ 0x558367e9d840] Invalid NAL unit size (0 > 7432).\n",
      "[NULL @ 0x558367e9d840] missing picture in access unit with size 7436\n",
      "[h264 @ 0x55838143cfc0] Invalid NAL unit size (0 > 7432).\n",
      "[h264 @ 0x55838143cfc0] Error splitting the input into NAL units.\n",
      "[NULL @ 0x558367e9d840] Invalid NAL unit size (0 > 8163).\n",
      "[NULL @ 0x558367e9d840] missing picture in access unit with size 8167\n",
      "[h264 @ 0x55835f5be040] Invalid NAL unit size (0 > 8163).\n",
      "[h264 @ 0x55835f5be040] Error splitting the input into NAL units.\n",
      "[NULL @ 0x558367e9d840] Invalid NAL unit size (0 > 11436).\n",
      "[NULL @ 0x558367e9d840] missing picture in access unit with size 11440\n",
      "[h264 @ 0x55835f4a8a80] Invalid NAL unit size (0 > 11436).\n",
      "[h264 @ 0x55835f4a8a80] Error splitting the input into NAL units.\n",
      "[NULL @ 0x558367e9d840] Invalid NAL unit size (0 > 11132).\n",
      "[NULL @ 0x558367e9d840] missing picture in access unit with size 11136\n",
      "[h264 @ 0x55837f4cea80] Invalid NAL unit size (0 > 11132).\n",
      "[h264 @ 0x55837f4cea80] Error splitting the input into NAL units.\n",
      "[NULL @ 0x558367e9d840] Invalid NAL unit size (0 > 11243).\n",
      "[NULL @ 0x558367e9d840] missing picture in access unit with size 11247\n",
      "[h264 @ 0x55838143cfc0] Invalid NAL unit size (0 > 11243).\n",
      "[h264 @ 0x55838143cfc0] Error splitting the input into NAL units.\n",
      "[NULL @ 0x558367e9d840] Invalid NAL unit size (0 > 13856).\n",
      "[NULL @ 0x558367e9d840] missing picture in access unit with size 13860\n",
      "[h264 @ 0x55835f5be040] Invalid NAL unit size (0 > 13856).\n",
      "[h264 @ 0x55835f5be040] Error splitting the input into NAL units.\n",
      "[NULL @ 0x558367e9d840] Invalid NAL unit size (0 > 12751).\n",
      "[NULL @ 0x558367e9d840] missing picture in access unit with size 12755\n",
      "[h264 @ 0x55835f4a8a80] Invalid NAL unit size (0 > 12751).\n",
      "[h264 @ 0x55835f4a8a80] Error splitting the input into NAL units.\n",
      "[NULL @ 0x558367e9d840] Invalid NAL unit size (0 > 11665).\n",
      "[NULL @ 0x558367e9d840] missing picture in access unit with size 11669\n",
      "[h264 @ 0x55837f4cea80] Invalid NAL unit size (0 > 11665).\n",
      "[h264 @ 0x55837f4cea80] Error splitting the input into NAL units.\n",
      "[NULL @ 0x558367e9d840] Invalid NAL unit size (0 > 10248).\n",
      "[NULL @ 0x558367e9d840] missing picture in access unit with size 10252\n",
      "[h264 @ 0x55838143cfc0] Invalid NAL unit size (0 > 10248).\n",
      "[h264 @ 0x55838143cfc0] Error splitting the input into NAL units.\n",
      "[NULL @ 0x558367e9d840] Invalid NAL unit size (0 > 11093).\n",
      "[NULL @ 0x558367e9d840] missing picture in access unit with size 11097\n",
      "[h264 @ 0x55835f5be040] Invalid NAL unit size (0 > 11093).\n",
      "[h264 @ 0x55835f5be040] Error splitting the input into NAL units.\n",
      "1000it [19:23,  1.16s/it]\n"
     ]
    }
   ],
   "source": [
    "vbd = []\n",
    "\n",
    "for ind, video_path in tqdm(enumerate(need_video_path)):\n",
    "    video_tensor = load_video(video_path)\n",
    "    features = extract_features(feat_extractor, video_tensor, 64)\n",
    "    if not features_only:\n",
    "        features = sim_model.index_video(features)\n",
    "    vbd.append((video_path, features))\n",
    "    \n",
    "\n",
    "with open(\"features_only_false_visil.pkl\", \"wb\") as f:\n",
    "    pickle.dump(vbd, f)"
   ]
  },
  {
   "cell_type": "code",
   "execution_count": null,
   "id": "a384029e-3391-4235-a1be-509dde1710d4",
   "metadata": {},
   "outputs": [],
   "source": []
  },
  {
   "cell_type": "code",
   "execution_count": 56,
   "id": "bc0c4d9b-6adf-4e04-aa8e-fbb4f0b086e2",
   "metadata": {
    "execution": {
     "iopub.execute_input": "2024-09-28T03:06:42.578154Z",
     "iopub.status.busy": "2024-09-28T03:06:42.577029Z",
     "iopub.status.idle": "2024-09-28T03:06:43.795031Z",
     "shell.execute_reply": "2024-09-28T03:06:43.794122Z",
     "shell.execute_reply.started": "2024-09-28T03:06:42.578110Z"
    },
    "tags": []
   },
   "outputs": [],
   "source": [
    "import pickle\n",
    "vbd = pickle.load(open(\"features_only_false_visil.pkl\", \"rb\"))\n",
    "vbd_only_features = [i[1] for i in vbd]"
   ]
  },
  {
   "cell_type": "code",
   "execution_count": 57,
   "id": "46f1a7af-b72c-4de4-93d3-b62876035fe2",
   "metadata": {
    "execution": {
     "iopub.execute_input": "2024-09-28T03:06:43.797317Z",
     "iopub.status.busy": "2024-09-28T03:06:43.796526Z",
     "iopub.status.idle": "2024-09-28T03:06:44.106743Z",
     "shell.execute_reply": "2024-09-28T03:06:44.105954Z",
     "shell.execute_reply.started": "2024-09-28T03:06:43.797281Z"
    },
    "tags": []
   },
   "outputs": [
    {
     "data": {
      "text/plain": [
       "[array(0.24500334, dtype=float32),\n",
       " array(0.03393492, dtype=float32),\n",
       " array(0.0334711, dtype=float32),\n",
       " array(0.03378854, dtype=float32),\n",
       " array(0.02417022, dtype=float32),\n",
       " array(0.04491382, dtype=float32),\n",
       " array(0.02338933, dtype=float32),\n",
       " array(0.06267554, dtype=float32),\n",
       " array(0.05032273, dtype=float32),\n",
       " array(0.03346426, dtype=float32)]"
      ]
     },
     "execution_count": 57,
     "metadata": {},
     "output_type": "execute_result"
    }
   ],
   "source": [
    "res = calculate_similarities_to_queries(sim_model, vbd_only_features, vbd_only_features[0])\n",
    "res[:10]"
   ]
  },
  {
   "cell_type": "code",
   "execution_count": 58,
   "id": "6ae7b143-ba19-4cae-85d3-1b8d7d00d74c",
   "metadata": {
    "execution": {
     "iopub.execute_input": "2024-09-28T03:06:45.155230Z",
     "iopub.status.busy": "2024-09-28T03:06:45.154365Z",
     "iopub.status.idle": "2024-09-28T03:06:45.954726Z",
     "shell.execute_reply": "2024-09-28T03:06:45.953916Z",
     "shell.execute_reply.started": "2024-09-28T03:06:45.155185Z"
    },
    "tags": []
   },
   "outputs": [
    {
     "data": {
      "text/plain": [
       "[array(0.57095385, dtype=float32),\n",
       " array(-0.98947275, dtype=float32),\n",
       " array(-0.9877715, dtype=float32),\n",
       " array(-0.9306061, dtype=float32),\n",
       " array(-0.98706734, dtype=float32),\n",
       " array(-0.8727017, dtype=float32),\n",
       " array(-0.99329174, dtype=float32),\n",
       " array(-0.76310265, dtype=float32),\n",
       " array(-0.94187105, dtype=float32),\n",
       " array(-0.9908284, dtype=float32)]"
      ]
     },
     "execution_count": 58,
     "metadata": {},
     "output_type": "execute_result"
    }
   ],
   "source": [
    "res = calculate_similarities_to_queries(sim_model, vbd_only_features, vbd_only_features[0], apply_visil=False)\n",
    "res[:10]"
   ]
  },
  {
   "cell_type": "code",
   "execution_count": null,
   "id": "2e2c0267-47ae-4578-b16b-1c34a2273f35",
   "metadata": {},
   "outputs": [],
   "source": []
  },
  {
   "cell_type": "code",
   "execution_count": 59,
   "id": "752d64a4-03ff-464e-9d61-e160a2ec273f",
   "metadata": {
    "execution": {
     "iopub.execute_input": "2024-09-28T03:06:52.491614Z",
     "iopub.status.busy": "2024-09-28T03:06:52.490479Z",
     "iopub.status.idle": "2024-09-28T03:06:52.572618Z",
     "shell.execute_reply": "2024-09-28T03:06:52.571641Z",
     "shell.execute_reply.started": "2024-09-28T03:06:52.491570Z"
    },
    "tags": []
   },
   "outputs": [
    {
     "data": {
      "text/plain": [
       "-0.94206166"
      ]
     },
     "execution_count": 59,
     "metadata": {},
     "output_type": "execute_result"
    }
   ],
   "source": [
    "import numpy as np\n",
    "np.mean(res)"
   ]
  },
  {
   "cell_type": "code",
   "execution_count": null,
   "id": "e068072f-7c65-4345-9603-c0b8f9313757",
   "metadata": {},
   "outputs": [],
   "source": []
  },
  {
   "cell_type": "code",
   "execution_count": 60,
   "id": "d11e2947-9674-440c-beb8-3ee88be60266",
   "metadata": {
    "execution": {
     "iopub.execute_input": "2024-09-28T03:06:57.381146Z",
     "iopub.status.busy": "2024-09-28T03:06:57.380025Z",
     "iopub.status.idle": "2024-09-28T03:12:57.603072Z",
     "shell.execute_reply": "2024-09-28T03:12:57.602225Z",
     "shell.execute_reply.started": "2024-09-28T03:06:57.381102Z"
    },
    "tags": []
   },
   "outputs": [
    {
     "name": "stderr",
     "output_type": "stream",
     "text": [
      "100%|██████████| 999/999 [06:00<00:00,  2.77it/s]\n"
     ]
    },
    {
     "data": {
      "text/html": [
       "<div>\n",
       "<style scoped>\n",
       "    .dataframe tbody tr th:only-of-type {\n",
       "        vertical-align: middle;\n",
       "    }\n",
       "\n",
       "    .dataframe tbody tr th {\n",
       "        vertical-align: top;\n",
       "    }\n",
       "\n",
       "    .dataframe thead th {\n",
       "        text-align: right;\n",
       "    }\n",
       "</style>\n",
       "<table border=\"1\" class=\"dataframe\">\n",
       "  <thead>\n",
       "    <tr style=\"text-align: right;\">\n",
       "      <th></th>\n",
       "      <th>sim</th>\n",
       "      <th>uuid</th>\n",
       "    </tr>\n",
       "  </thead>\n",
       "  <tbody>\n",
       "    <tr>\n",
       "      <th>0</th>\n",
       "      <td>-0.9834156</td>\n",
       "      <td>23fac2f2-7f00-48cb-b3ac-aac8caa3b6b4</td>\n",
       "    </tr>\n",
       "    <tr>\n",
       "      <th>1</th>\n",
       "      <td>-0.9822868</td>\n",
       "      <td>23fac2f2-7f00-48cb-b3ac-aac8caa3b6b4</td>\n",
       "    </tr>\n",
       "    <tr>\n",
       "      <th>2</th>\n",
       "      <td>-0.92092645</td>\n",
       "      <td>4182b2d2-4264-41dd-b101-4c1c66f4bdab</td>\n",
       "    </tr>\n",
       "    <tr>\n",
       "      <th>3</th>\n",
       "      <td>-0.9199703</td>\n",
       "      <td>4b1acc2d-69aa-4161-9fc3-fb706ebc9d4a</td>\n",
       "    </tr>\n",
       "    <tr>\n",
       "      <th>4</th>\n",
       "      <td>-0.9127227</td>\n",
       "      <td>4b1acc2d-69aa-4161-9fc3-fb706ebc9d4a</td>\n",
       "    </tr>\n",
       "    <tr>\n",
       "      <th>...</th>\n",
       "      <td>...</td>\n",
       "      <td>...</td>\n",
       "    </tr>\n",
       "    <tr>\n",
       "      <th>994</th>\n",
       "      <td>0.9801586</td>\n",
       "      <td>17526f87-b1ef-47ce-86b4-ee1b9be86ae6</td>\n",
       "    </tr>\n",
       "    <tr>\n",
       "      <th>995</th>\n",
       "      <td>-0.7895439</td>\n",
       "      <td>4a5c0c4c-91e6-4f3b-8dbb-5406dff0bc30</td>\n",
       "    </tr>\n",
       "    <tr>\n",
       "      <th>996</th>\n",
       "      <td>0.97810143</td>\n",
       "      <td>39b0c2a2-5d4e-4e1a-98e5-fd0b68e8655e</td>\n",
       "    </tr>\n",
       "    <tr>\n",
       "      <th>997</th>\n",
       "      <td>-0.83963424</td>\n",
       "      <td>d7009e84-c4fd-4591-abcb-124332e1746d</td>\n",
       "    </tr>\n",
       "    <tr>\n",
       "      <th>998</th>\n",
       "      <td>-0.773869</td>\n",
       "      <td>5629d3b0-91b5-49d6-b28d-32d8060076eb</td>\n",
       "    </tr>\n",
       "  </tbody>\n",
       "</table>\n",
       "<p>999 rows × 2 columns</p>\n",
       "</div>"
      ],
      "text/plain": [
       "             sim                                  uuid\n",
       "0     -0.9834156  23fac2f2-7f00-48cb-b3ac-aac8caa3b6b4\n",
       "1     -0.9822868  23fac2f2-7f00-48cb-b3ac-aac8caa3b6b4\n",
       "2    -0.92092645  4182b2d2-4264-41dd-b101-4c1c66f4bdab\n",
       "3     -0.9199703  4b1acc2d-69aa-4161-9fc3-fb706ebc9d4a\n",
       "4     -0.9127227  4b1acc2d-69aa-4161-9fc3-fb706ebc9d4a\n",
       "..           ...                                   ...\n",
       "994    0.9801586  17526f87-b1ef-47ce-86b4-ee1b9be86ae6\n",
       "995   -0.7895439  4a5c0c4c-91e6-4f3b-8dbb-5406dff0bc30\n",
       "996   0.97810143  39b0c2a2-5d4e-4e1a-98e5-fd0b68e8655e\n",
       "997  -0.83963424  d7009e84-c4fd-4591-abcb-124332e1746d\n",
       "998    -0.773869  5629d3b0-91b5-49d6-b28d-32d8060076eb\n",
       "\n",
       "[999 rows x 2 columns]"
      ]
     },
     "execution_count": 60,
     "metadata": {},
     "output_type": "execute_result"
    }
   ],
   "source": [
    "preds = []\n",
    "for i in tqdm(range(1, 1000)):\n",
    "    video = df_train_valid.iloc[i]['uuid']\n",
    "    duplicate_for = df_train_valid.iloc[i]['duplicate_for']\n",
    "    video_path = os.path.join(\"downloaded_videos\", video+'.mp4')\n",
    "    \n",
    "    target_embedding = vbd_only_features[i]\n",
    "    queries_embeddings = vbd_only_features[:i]\n",
    "    sims = calculate_similarities_to_queries(sim_model, queries_embeddings, target_embedding, apply_visil=features_only)\n",
    "\n",
    "    max_sim = max(sims)\n",
    "    most_similar_video = np.argmax(sims)\n",
    "    \n",
    "    pred = {'sim': max_sim, 'uuid': df_train_valid.iloc[most_similar_video][\"uuid\"]}\n",
    "    preds.append(pred)\n",
    "    \n",
    "preds = pd.DataFrame(preds)\n",
    "preds"
   ]
  },
  {
   "cell_type": "code",
   "execution_count": 61,
   "id": "500a5a3c-9ae5-4f80-8446-523c1753021b",
   "metadata": {
    "execution": {
     "iopub.execute_input": "2024-09-28T03:12:57.605625Z",
     "iopub.status.busy": "2024-09-28T03:12:57.604618Z",
     "iopub.status.idle": "2024-09-28T03:12:57.791430Z",
     "shell.execute_reply": "2024-09-28T03:12:57.790688Z",
     "shell.execute_reply.started": "2024-09-28T03:12:57.605565Z"
    },
    "tags": []
   },
   "outputs": [
    {
     "data": {
      "text/plain": [
       "<Axes: >"
      ]
     },
     "execution_count": 61,
     "metadata": {},
     "output_type": "execute_result"
    },
    {
     "data": {
      "image/png": "[encoded data removed]",
      "text/plain": [
       "<Figure size 640x480 with 1 Axes>"
      ]
     },
     "metadata": {},
     "output_type": "display_data"
    }
   ],
   "source": [
    "preds[\"sim\"].hist()"
   ]
  },
  {
   "cell_type": "code",
   "execution_count": null,
   "id": "4c567523-1754-4919-9d37-bc2f49aa108a",
   "metadata": {},
   "outputs": [],
   "source": []
  },
  {
   "cell_type": "code",
   "execution_count": 62,
   "id": "c7221ff4-603a-4bac-849b-7128e2b1eb9e",
   "metadata": {
    "execution": {
     "iopub.execute_input": "2024-09-28T03:13:04.265921Z",
     "iopub.status.busy": "2024-09-28T03:13:04.264635Z",
     "iopub.status.idle": "2024-09-28T03:13:04.289680Z",
     "shell.execute_reply": "2024-09-28T03:13:04.288787Z",
     "shell.execute_reply.started": "2024-09-28T03:13:04.265878Z"
    },
    "tags": []
   },
   "outputs": [
    {
     "data": {
      "text/plain": [
       "-0.43411548144824513"
      ]
     },
     "execution_count": 62,
     "metadata": {},
     "output_type": "execute_result"
    }
   ],
   "source": [
    "preds[\"sim\"].mean()"
   ]
  },
  {
   "cell_type": "code",
   "execution_count": 63,
   "id": "ada5e8da-4f9d-48e7-9417-e0a880f38b41",
   "metadata": {
    "execution": {
     "iopub.execute_input": "2024-09-28T03:13:05.818362Z",
     "iopub.status.busy": "2024-09-28T03:13:05.817325Z",
     "iopub.status.idle": "2024-09-28T03:13:05.842029Z",
     "shell.execute_reply": "2024-09-28T03:13:05.841188Z",
     "shell.execute_reply.started": "2024-09-28T03:13:05.818319Z"
    },
    "tags": []
   },
   "outputs": [
    {
     "data": {
      "text/plain": [
       "0.02849608398973932"
      ]
     },
     "execution_count": 63,
     "metadata": {},
     "output_type": "execute_result"
    }
   ],
   "source": [
    "t = np.quantile(preds['sim'], 0.83)\n",
    "t"
   ]
  },
  {
   "cell_type": "code",
   "execution_count": null,
   "id": "987d643d-3604-4ef5-a3ee-ec477e89bccf",
   "metadata": {},
   "outputs": [],
   "source": []
  },
  {
   "cell_type": "code",
   "execution_count": 64,
   "id": "46c43715-95e4-49d0-a4ad-7198c93482ca",
   "metadata": {
    "execution": {
     "iopub.execute_input": "2024-09-28T03:13:10.974251Z",
     "iopub.status.busy": "2024-09-28T03:13:10.973094Z",
     "iopub.status.idle": "2024-09-28T03:13:10.992830Z",
     "shell.execute_reply": "2024-09-28T03:13:10.991847Z",
     "shell.execute_reply.started": "2024-09-28T03:13:10.974207Z"
    },
    "tags": []
   },
   "outputs": [],
   "source": [
    "from sklearn.metrics import accuracy_score, confusion_matrix, f1_score"
   ]
  },
  {
   "cell_type": "code",
   "execution_count": 65,
   "id": "c0d72cc3-7971-4b89-8566-6fc531f32df7",
   "metadata": {
    "execution": {
     "iopub.execute_input": "2024-09-28T03:13:11.257100Z",
     "iopub.status.busy": "2024-09-28T03:13:11.256048Z",
     "iopub.status.idle": "2024-09-28T03:13:11.268449Z",
     "shell.execute_reply": "2024-09-28T03:13:11.267749Z",
     "shell.execute_reply.started": "2024-09-28T03:13:11.257058Z"
    },
    "tags": []
   },
   "outputs": [],
   "source": [
    "t = 0.25"
   ]
  },
  {
   "cell_type": "code",
   "execution_count": 66,
   "id": "2c87f008-7723-4683-8943-9e8bb601e486",
   "metadata": {
    "execution": {
     "iopub.execute_input": "2024-09-28T03:13:13.201578Z",
     "iopub.status.busy": "2024-09-28T03:13:13.200521Z",
     "iopub.status.idle": "2024-09-28T03:13:13.235610Z",
     "shell.execute_reply": "2024-09-28T03:13:13.234729Z",
     "shell.execute_reply.started": "2024-09-28T03:13:13.201538Z"
    },
    "tags": []
   },
   "outputs": [
    {
     "data": {
      "text/plain": [
       "0.978978978978979"
      ]
     },
     "execution_count": 66,
     "metadata": {},
     "output_type": "execute_result"
    }
   ],
   "source": [
    "preds['is_duplicate'] = preds['sim'].apply(lambda x: (x > t))\n",
    "preds.loc[preds['sim'] <= t, 'uuid'] = np.nan\n",
    "\n",
    "accuracy_score(df_train_valid.iloc[1:]['is_duplicate'], preds['is_duplicate'])"
   ]
  },
  {
   "cell_type": "code",
   "execution_count": 67,
   "id": "577044c9-5820-4872-a4c8-390c6092445e",
   "metadata": {
    "execution": {
     "iopub.execute_input": "2024-09-28T03:13:14.948751Z",
     "iopub.status.busy": "2024-09-28T03:13:14.947745Z",
     "iopub.status.idle": "2024-09-28T03:13:14.976180Z",
     "shell.execute_reply": "2024-09-28T03:13:14.975329Z",
     "shell.execute_reply.started": "2024-09-28T03:13:14.948709Z"
    },
    "tags": []
   },
   "outputs": [
    {
     "data": {
      "text/plain": [
       "0.9345794392523364"
      ]
     },
     "execution_count": 67,
     "metadata": {},
     "output_type": "execute_result"
    }
   ],
   "source": [
    "f1_score(df_train_valid.iloc[1:]['is_duplicate'], preds['is_duplicate'])"
   ]
  },
  {
   "cell_type": "code",
   "execution_count": null,
   "id": "b4b45184-e042-4202-9531-34b4400bb91c",
   "metadata": {},
   "outputs": [],
   "source": []
  },
  {
   "cell_type": "code",
   "execution_count": 50,
   "id": "42afbb88-01aa-4d66-a341-20cac93c1aaf",
   "metadata": {
    "execution": {
     "iopub.execute_input": "2024-09-28T02:46:11.471693Z",
     "iopub.status.busy": "2024-09-28T02:46:11.470593Z",
     "iopub.status.idle": "2024-09-28T02:46:11.506923Z",
     "shell.execute_reply": "2024-09-28T02:46:11.506142Z",
     "shell.execute_reply.started": "2024-09-28T02:46:11.471649Z"
    },
    "tags": []
   },
   "outputs": [
    {
     "data": {
      "text/plain": [
       "array([[826,   5],\n",
       "       [ 18, 150]])"
      ]
     },
     "execution_count": 50,
     "metadata": {},
     "output_type": "execute_result"
    }
   ],
   "source": [
    "confusion_matrix(df_train_valid.iloc[1:]['is_duplicate'], preds['is_duplicate'])"
   ]
  },
  {
   "cell_type": "code",
   "execution_count": null,
   "id": "4fde1c5e-ad76-4f8a-89e0-8fb70e3956f0",
   "metadata": {},
   "outputs": [],
   "source": [
    "    \n"
   ]
  },
  {
   "cell_type": "code",
   "execution_count": null,
   "id": "b1e7673c-ab6c-4fdb-971b-4c3f9c8286f5",
   "metadata": {},
   "outputs": [],
   "source": [
    "    \n"
   ]
  },
  {
   "cell_type": "code",
   "execution_count": null,
   "id": "c675cbc4-4fbe-48aa-88e4-57062f46fe8c",
   "metadata": {},
   "outputs": [],
   "source": []
  },
  {
   "cell_type": "code",
   "execution_count": null,
   "id": "667158de-92ce-4e72-86a6-490c563bd0fe",
   "metadata": {},
   "outputs": [],
   "source": []
  },
  {
   "cell_type": "code",
   "execution_count": 59,
   "id": "89174c32-7724-4af7-ad27-1130a3bbb28a",
   "metadata": {
    "execution": {
     "iopub.execute_input": "2024-09-27T22:29:56.333726Z",
     "iopub.status.busy": "2024-09-27T22:29:56.332802Z",
     "iopub.status.idle": "2024-09-27T22:29:56.459628Z",
     "shell.execute_reply": "2024-09-27T22:29:56.458777Z",
     "shell.execute_reply.started": "2024-09-27T22:29:56.333687Z"
    },
    "tags": []
   },
   "outputs": [],
   "source": [
    "import copy\n",
    "index_embeddings = copy.deepcopy(vbd)"
   ]
  },
  {
   "cell_type": "code",
   "execution_count": null,
   "id": "aec5f906-3eb4-4f80-abd6-474e2f4b8329",
   "metadata": {},
   "outputs": [],
   "source": []
  },
  {
   "cell_type": "code",
   "execution_count": 60,
   "id": "547d2ce6-5291-4ede-9714-c12f4f911945",
   "metadata": {
    "execution": {
     "iopub.execute_input": "2024-09-27T22:29:57.727555Z",
     "iopub.status.busy": "2024-09-27T22:29:57.726626Z",
     "iopub.status.idle": "2024-09-27T22:29:57.741045Z",
     "shell.execute_reply": "2024-09-27T22:29:57.740367Z",
     "shell.execute_reply.started": "2024-09-27T22:29:57.727515Z"
    },
    "tags": []
   },
   "outputs": [],
   "source": [
    "from torch.nn.functional import cosine_similarity\n",
    "\n",
    "def similarity(tensor1, tensor2):\n",
    "    tensor1_flat = tensor1.view(-1)\n",
    "    tensor2_flat = tensor2.view(-1)\n",
    "    return cosine_similarity(tensor1_flat.unsqueeze(0), tensor2_flat.unsqueeze(0))"
   ]
  },
  {
   "cell_type": "code",
   "execution_count": null,
   "id": "59fac4f2-902c-4ac9-adf8-66cde3c26516",
   "metadata": {},
   "outputs": [],
   "source": []
  },
  {
   "cell_type": "code",
   "execution_count": 61,
   "id": "2a3653d7-b203-4335-9d68-3f3b42f013a2",
   "metadata": {
    "execution": {
     "iopub.execute_input": "2024-09-27T22:29:59.711886Z",
     "iopub.status.busy": "2024-09-27T22:29:59.711149Z",
     "iopub.status.idle": "2024-09-27T22:29:59.738295Z",
     "shell.execute_reply": "2024-09-27T22:29:59.737614Z",
     "shell.execute_reply.started": "2024-09-27T22:29:59.711847Z"
    },
    "tags": []
   },
   "outputs": [
    {
     "data": {
      "text/plain": [
       "'downloaded_videos/1d188cb4-48f2-4e41-b365-c1122b96ea13.mp4'"
      ]
     },
     "execution_count": 61,
     "metadata": {},
     "output_type": "execute_result"
    }
   ],
   "source": [
    "video_path"
   ]
  },
  {
   "cell_type": "code",
   "execution_count": 62,
   "id": "1d8067ed-fbcf-4033-b463-29265c20df82",
   "metadata": {
    "execution": {
     "iopub.execute_input": "2024-09-27T22:30:02.572142Z",
     "iopub.status.busy": "2024-09-27T22:30:02.571007Z",
     "iopub.status.idle": "2024-09-27T22:30:53.401181Z",
     "shell.execute_reply": "2024-09-27T22:30:53.400420Z",
     "shell.execute_reply.started": "2024-09-27T22:30:02.572098Z"
    },
    "tags": []
   },
   "outputs": [
    {
     "name": "stderr",
     "output_type": "stream",
     "text": [
      "100%|██████████| 999/999 [00:50<00:00, 19.66it/s] \n"
     ]
    },
    {
     "data": {
      "text/html": [
       "<div>\n",
       "<style scoped>\n",
       "    .dataframe tbody tr th:only-of-type {\n",
       "        vertical-align: middle;\n",
       "    }\n",
       "\n",
       "    .dataframe tbody tr th {\n",
       "        vertical-align: top;\n",
       "    }\n",
       "\n",
       "    .dataframe thead th {\n",
       "        text-align: right;\n",
       "    }\n",
       "</style>\n",
       "<table border=\"1\" class=\"dataframe\">\n",
       "  <thead>\n",
       "    <tr style=\"text-align: right;\">\n",
       "      <th></th>\n",
       "      <th>sim</th>\n",
       "      <th>uuid</th>\n",
       "    </tr>\n",
       "  </thead>\n",
       "  <tbody>\n",
       "    <tr>\n",
       "      <th>0</th>\n",
       "      <td>0.974208</td>\n",
       "      <td>23fac2f2-7f00-48cb-b3ac-aac8caa3b6b4</td>\n",
       "    </tr>\n",
       "    <tr>\n",
       "      <th>1</th>\n",
       "      <td>0.978275</td>\n",
       "      <td>23fac2f2-7f00-48cb-b3ac-aac8caa3b6b4</td>\n",
       "    </tr>\n",
       "    <tr>\n",
       "      <th>2</th>\n",
       "      <td>0.980995</td>\n",
       "      <td>4182b2d2-4264-41dd-b101-4c1c66f4bdab</td>\n",
       "    </tr>\n",
       "    <tr>\n",
       "      <th>3</th>\n",
       "      <td>0.984493</td>\n",
       "      <td>0d0558ec-e417-4255-b1cd-a8ed7f4892b9</td>\n",
       "    </tr>\n",
       "    <tr>\n",
       "      <th>4</th>\n",
       "      <td>0.985474</td>\n",
       "      <td>0d0558ec-e417-4255-b1cd-a8ed7f4892b9</td>\n",
       "    </tr>\n",
       "    <tr>\n",
       "      <th>...</th>\n",
       "      <td>...</td>\n",
       "      <td>...</td>\n",
       "    </tr>\n",
       "    <tr>\n",
       "      <th>994</th>\n",
       "      <td>0.999795</td>\n",
       "      <td>17526f87-b1ef-47ce-86b4-ee1b9be86ae6</td>\n",
       "    </tr>\n",
       "    <tr>\n",
       "      <th>995</th>\n",
       "      <td>0.960794</td>\n",
       "      <td>0c4c4fea-cb8e-43ac-994a-9c3d09215709</td>\n",
       "    </tr>\n",
       "    <tr>\n",
       "      <th>996</th>\n",
       "      <td>0.999371</td>\n",
       "      <td>39b0c2a2-5d4e-4e1a-98e5-fd0b68e8655e</td>\n",
       "    </tr>\n",
       "    <tr>\n",
       "      <th>997</th>\n",
       "      <td>0.996967</td>\n",
       "      <td>4c9bd8a3-b6cd-449e-af1b-1c8a41306c56</td>\n",
       "    </tr>\n",
       "    <tr>\n",
       "      <th>998</th>\n",
       "      <td>0.996945</td>\n",
       "      <td>3437c7ba-c5ee-4375-aa48-98d29432e382</td>\n",
       "    </tr>\n",
       "  </tbody>\n",
       "</table>\n",
       "<p>999 rows × 2 columns</p>\n",
       "</div>"
      ],
      "text/plain": [
       "          sim                                  uuid\n",
       "0    0.974208  23fac2f2-7f00-48cb-b3ac-aac8caa3b6b4\n",
       "1    0.978275  23fac2f2-7f00-48cb-b3ac-aac8caa3b6b4\n",
       "2    0.980995  4182b2d2-4264-41dd-b101-4c1c66f4bdab\n",
       "3    0.984493  0d0558ec-e417-4255-b1cd-a8ed7f4892b9\n",
       "4    0.985474  0d0558ec-e417-4255-b1cd-a8ed7f4892b9\n",
       "..        ...                                   ...\n",
       "994  0.999795  17526f87-b1ef-47ce-86b4-ee1b9be86ae6\n",
       "995  0.960794  0c4c4fea-cb8e-43ac-994a-9c3d09215709\n",
       "996  0.999371  39b0c2a2-5d4e-4e1a-98e5-fd0b68e8655e\n",
       "997  0.996967  4c9bd8a3-b6cd-449e-af1b-1c8a41306c56\n",
       "998  0.996945  3437c7ba-c5ee-4375-aa48-98d29432e382\n",
       "\n",
       "[999 rows x 2 columns]"
      ]
     },
     "execution_count": 62,
     "metadata": {},
     "output_type": "execute_result"
    }
   ],
   "source": [
    "preds = []\n",
    "for i in tqdm(range(1, 1000)):\n",
    "\n",
    "    video = df_train_valid.iloc[i]['uuid']\n",
    "    duplicate_for = df_train_valid.iloc[i]['duplicate_for']\n",
    "    video_path = os.path.join(\"downloaded_videos\", video+'.mp4')\n",
    "    \n",
    "    _, query_embedding = index_embeddings[i]\n",
    "\n",
    "    max_sim = float('-inf')\n",
    "    most_similar_video = None\n",
    "    \n",
    "    for index, (_, index_embedding) in enumerate(index_embeddings[:i]):\n",
    "        sim = similarity(query_embedding, index_embedding)\n",
    "        if sim > max_sim:\n",
    "            max_sim = sim\n",
    "            most_similar_video = index\n",
    "    \n",
    "    pred = {'sim': max_sim.item(), 'uuid': df_train_valid.iloc[most_similar_video][\"uuid\"]}\n",
    "    preds.append(pred)\n",
    "preds = pd.DataFrame(preds)\n",
    "preds"
   ]
  },
  {
   "cell_type": "code",
   "execution_count": 64,
   "id": "bed06c5a-5934-4fdc-8ff5-dd216594e516",
   "metadata": {
    "execution": {
     "iopub.execute_input": "2024-09-27T22:32:21.804458Z",
     "iopub.status.busy": "2024-09-27T22:32:21.803518Z",
     "iopub.status.idle": "2024-09-27T22:32:21.827721Z",
     "shell.execute_reply": "2024-09-27T22:32:21.827009Z",
     "shell.execute_reply.started": "2024-09-27T22:32:21.804418Z"
    }
   },
   "outputs": [],
   "source": [
    "import numpy as np"
   ]
  },
  {
   "cell_type": "code",
   "execution_count": 70,
   "id": "e5702f62-af11-402f-9294-0d7f1d0fa901",
   "metadata": {
    "execution": {
     "iopub.execute_input": "2024-09-27T22:33:14.506939Z",
     "iopub.status.busy": "2024-09-27T22:33:14.506191Z",
     "iopub.status.idle": "2024-09-27T22:33:14.525903Z",
     "shell.execute_reply": "2024-09-27T22:33:14.525154Z",
     "shell.execute_reply.started": "2024-09-27T22:33:14.506900Z"
    }
   },
   "outputs": [
    {
     "data": {
      "text/plain": [
       "0.9902036036099041"
      ]
     },
     "execution_count": 70,
     "metadata": {},
     "output_type": "execute_result"
    }
   ],
   "source": [
    "preds[\"sim\"].mean()"
   ]
  },
  {
   "cell_type": "code",
   "execution_count": null,
   "id": "f0cc28f0-fbca-4724-b540-f75abb05e392",
   "metadata": {},
   "outputs": [],
   "source": []
  },
  {
   "cell_type": "code",
   "execution_count": 65,
   "id": "e570a838-c13e-4b56-b6b8-ba7e542f3a87",
   "metadata": {
    "execution": {
     "iopub.execute_input": "2024-09-27T22:32:22.111667Z",
     "iopub.status.busy": "2024-09-27T22:32:22.110726Z",
     "iopub.status.idle": "2024-09-27T22:32:22.139122Z",
     "shell.execute_reply": "2024-09-27T22:32:22.138356Z",
     "shell.execute_reply.started": "2024-09-27T22:32:22.111628Z"
    },
    "tags": []
   },
   "outputs": [
    {
     "data": {
      "text/plain": [
       "0.9972531223297119"
      ]
     },
     "execution_count": 65,
     "metadata": {},
     "output_type": "execute_result"
    }
   ],
   "source": [
    "t = np.quantile(preds['sim'], 0.83)\n",
    "t"
   ]
  },
  {
   "cell_type": "code",
   "execution_count": 72,
   "id": "08828280-92c2-4acb-ba94-e42196c6ffdc",
   "metadata": {
    "execution": {
     "iopub.execute_input": "2024-09-27T22:34:21.254131Z",
     "iopub.status.busy": "2024-09-27T22:34:21.252987Z",
     "iopub.status.idle": "2024-09-27T22:34:21.305816Z",
     "shell.execute_reply": "2024-09-27T22:34:21.304941Z",
     "shell.execute_reply.started": "2024-09-27T22:34:21.254089Z"
    },
    "tags": []
   },
   "outputs": [],
   "source": [
    "from sklearn.metrics import accuracy_score, confusion_matrix"
   ]
  },
  {
   "cell_type": "code",
   "execution_count": 69,
   "id": "600ddc8b-4636-4507-8223-5c83296142ae",
   "metadata": {
    "execution": {
     "iopub.execute_input": "2024-09-27T22:32:54.164985Z",
     "iopub.status.busy": "2024-09-27T22:32:54.164024Z",
     "iopub.status.idle": "2024-09-27T22:32:54.191163Z",
     "shell.execute_reply": "2024-09-27T22:32:54.190437Z",
     "shell.execute_reply.started": "2024-09-27T22:32:54.164947Z"
    },
    "tags": []
   },
   "outputs": [
    {
     "data": {
      "text/plain": [
       "0.8818818818818819"
      ]
     },
     "execution_count": 69,
     "metadata": {},
     "output_type": "execute_result"
    }
   ],
   "source": [
    "preds['is_duplicate'] = preds['sim'].apply(lambda x: (x > t))\n",
    "preds.loc[preds['sim'] <= t, 'uuid'] = np.nan\n",
    "\n",
    "accuracy_score(df_train_valid.iloc[1:]['is_duplicate'], preds['is_duplicate'])"
   ]
  },
  {
   "cell_type": "code",
   "execution_count": 94,
   "id": "2f656d0d-a2a7-491b-90ad-87f15e7eae9c",
   "metadata": {
    "execution": {
     "iopub.execute_input": "2024-09-27T22:47:25.735155Z",
     "iopub.status.busy": "2024-09-27T22:47:25.734230Z",
     "iopub.status.idle": "2024-09-27T22:47:25.773374Z",
     "shell.execute_reply": "2024-09-27T22:47:25.772502Z",
     "shell.execute_reply.started": "2024-09-27T22:47:25.735114Z"
    },
    "tags": []
   },
   "outputs": [
    {
     "data": {
      "text/plain": [
       "(array([ 61,  69,  82, 116, 177, 204, 213, 231, 235, 238, 254, 290, 296,\n",
       "        297, 311, 325, 326, 328, 331, 336, 354, 355, 368, 372, 383, 384,\n",
       "        392, 407, 419, 421, 432, 433, 436, 443, 448, 450, 461, 473, 498,\n",
       "        501, 508, 509, 513, 514, 533, 540, 562, 564, 576, 578, 579, 585,\n",
       "        601, 605, 606, 607, 615, 618, 627, 629, 637, 643, 666, 671, 685,\n",
       "        686, 687, 691, 693, 696, 697, 701, 703, 707, 713, 717, 718, 723,\n",
       "        742, 744, 749, 770, 773, 776, 807, 815, 822, 833, 840, 841, 844,\n",
       "        846, 857, 872, 875, 877, 878, 892, 893, 901, 902, 906, 915, 917,\n",
       "        922, 923, 928, 945, 954, 957, 960, 964, 965, 979, 984, 985, 989,\n",
       "        993]),)"
      ]
     },
     "execution_count": 94,
     "metadata": {},
     "output_type": "execute_result"
    }
   ],
   "source": [
    "np.where(df_train_valid.iloc[1:][\"is_duplicate\"].values != preds[\"is_duplicate\"])"
   ]
  },
  {
   "cell_type": "code",
   "execution_count": null,
   "id": "bd61de32-ed54-4562-a2b3-4c697a7c0bee",
   "metadata": {},
   "outputs": [],
   "source": []
  },
  {
   "cell_type": "code",
   "execution_count": null,
   "id": "d69c8e78-fd5e-4ecd-a795-697695185c91",
   "metadata": {},
   "outputs": [],
   "source": []
  },
  {
   "cell_type": "code",
   "execution_count": 99,
   "id": "a75b048b-f89b-4546-af25-a5529b0ba315",
   "metadata": {
    "execution": {
     "iopub.execute_input": "2024-09-27T22:48:53.586424Z",
     "iopub.status.busy": "2024-09-27T22:48:53.585545Z",
     "iopub.status.idle": "2024-09-27T22:48:53.607548Z",
     "shell.execute_reply": "2024-09-27T22:48:53.606718Z",
     "shell.execute_reply.started": "2024-09-27T22:48:53.586381Z"
    },
    "tags": []
   },
   "outputs": [
    {
     "data": {
      "text/plain": [
       "created                                        2024-06-04 01:48:27\n",
       "uuid                          0759a923-daf7-453e-afa5-c0343fe34a6c\n",
       "link             https://s3.ritm.media/yappy-db-duplicates/0759...\n",
       "is_duplicate                                                 False\n",
       "duplicate_for                                                  NaN\n",
       "is_hard                                                      False\n",
       "Name: 800, dtype: object"
      ]
     },
     "execution_count": 99,
     "metadata": {},
     "output_type": "execute_result"
    }
   ],
   "source": [
    "df_train_valid.iloc[1:].iloc[213]"
   ]
  },
  {
   "cell_type": "code",
   "execution_count": 100,
   "id": "6462f598-c425-4570-8d7c-7781228129d2",
   "metadata": {
    "execution": {
     "iopub.execute_input": "2024-09-27T22:48:57.787965Z",
     "iopub.status.busy": "2024-09-27T22:48:57.786943Z",
     "iopub.status.idle": "2024-09-27T22:48:57.807024Z",
     "shell.execute_reply": "2024-09-27T22:48:57.806328Z",
     "shell.execute_reply.started": "2024-09-27T22:48:57.787909Z"
    },
    "tags": []
   },
   "outputs": [
    {
     "data": {
      "text/plain": [
       "sim                                         0.998076\n",
       "uuid            0e7380c6-4f67-4f50-abe3-f40f5d5aeac7\n",
       "is_duplicate                                    True\n",
       "Name: 213, dtype: object"
      ]
     },
     "execution_count": 100,
     "metadata": {},
     "output_type": "execute_result"
    }
   ],
   "source": [
    "preds.iloc[213]"
   ]
  },
  {
   "cell_type": "code",
   "execution_count": null,
   "id": "9380e832-dc27-4dd8-886f-f287b662937e",
   "metadata": {},
   "outputs": [],
   "source": []
  },
  {
   "cell_type": "code",
   "execution_count": null,
   "id": "1d750a2f-88dc-45de-9c1c-859efa92c752",
   "metadata": {},
   "outputs": [],
   "source": []
  },
  {
   "cell_type": "code",
   "execution_count": 73,
   "id": "fe2cfe94-502e-4f2a-a890-dc7601bda122",
   "metadata": {
    "execution": {
     "iopub.execute_input": "2024-09-27T22:34:22.152122Z",
     "iopub.status.busy": "2024-09-27T22:34:22.150883Z",
     "iopub.status.idle": "2024-09-27T22:34:22.175321Z",
     "shell.execute_reply": "2024-09-27T22:34:22.174640Z",
     "shell.execute_reply.started": "2024-09-27T22:34:22.152074Z"
    },
    "tags": []
   },
   "outputs": [
    {
     "data": {
      "text/plain": [
       "array([[771,  60],\n",
       "       [ 58, 110]])"
      ]
     },
     "execution_count": 73,
     "metadata": {},
     "output_type": "execute_result"
    }
   ],
   "source": [
    "confusion_matrix(df_train_valid.iloc[1:]['is_duplicate'], preds['is_duplicate'])"
   ]
  },
  {
   "cell_type": "code",
   "execution_count": null,
   "id": "1aee67e6-c512-4d5b-9c5c-f53fbb515c91",
   "metadata": {},
   "outputs": [],
   "source": []
  },
  {
   "cell_type": "code",
   "execution_count": null,
   "id": "08ea675f-d152-49e5-b737-bd18bd1bdf72",
   "metadata": {},
   "outputs": [],
   "source": []
  },
  {
   "cell_type": "markdown",
   "id": "2eecbf44-06c2-4bc4-8f69-732e79ccc9af",
   "metadata": {
    "execution": {
     "iopub.execute_input": "2024-09-27T22:36:04.638765Z",
     "iopub.status.busy": "2024-09-27T22:36:04.637806Z",
     "iopub.status.idle": "2024-09-27T22:36:04.668922Z",
     "shell.execute_reply": "2024-09-27T22:36:04.668145Z",
     "shell.execute_reply.started": "2024-09-27T22:36:04.638715Z"
    },
    "tags": []
   },
   "source": [
    "## check by model simularity"
   ]
  },
  {
   "cell_type": "code",
   "execution_count": null,
   "id": "f590a3a3-8ce7-43a5-a8d7-7caec11b0983",
   "metadata": {},
   "outputs": [],
   "source": [
    "preds = []\n",
    "for i in tqdm(range(1, 1000)):\n",
    "    video = df_train_valid.iloc[i]['uuid']\n",
    "    duplicate_for = df_train_valid.iloc[i]['duplicate_for']\n",
    "    video_path = os.path.join(\"downloaded_videos\", video+'.mp4')\n",
    "    \n",
    "    _, query_embedding = index_embeddings[i]\n",
    "\n",
    "    max_sim = float('-inf')\n",
    "    most_similar_video = None\n",
    "    \n",
    "    for index, (_, index_embedding) in enumerate(index_embeddings[:i]):\n",
    "        sim = similarity(query_embedding, index_embedding)\n",
    "        if sim > max_sim:\n",
    "            max_sim = sim\n",
    "            most_similar_video = index\n",
    "    \n",
    "    pred = {'sim': max_sim.item(), 'uuid': df_train_valid.iloc[most_similar_video][\"uuid\"]}\n",
    "    \n",
    "    preds.append(pred)\n",
    "preds = pd.DataFrame(preds)\n",
    "preds"
   ]
  },
  {
   "cell_type": "code",
   "execution_count": null,
   "id": "0314ff48-809e-447f-9349-32233332069a",
   "metadata": {},
   "outputs": [],
   "source": []
  },
  {
   "cell_type": "code",
   "execution_count": null,
   "id": "f14c886d-328b-4682-92ad-922731c79f2d",
   "metadata": {},
   "outputs": [],
   "source": []
  },
  {
   "cell_type": "code",
   "execution_count": null,
   "id": "91d4617d-6a95-4a63-bfd2-67a318c8971f",
   "metadata": {},
   "outputs": [],
   "source": []
  },
  {
   "cell_type": "code",
   "execution_count": null,
   "id": "9334563f-540f-4db5-9289-50874669a7e0",
   "metadata": {},
   "outputs": [],
   "source": []
  }
 ],
 "metadata": {
  "kernelspec": {
   "display_name": "DataSphere Kernel",
   "language": "python",
   "name": "python3"
  },
  "language_info": {
   "codemirror_mode": {
    "name": "ipython",
    "version": 3
   },
   "file_extension": ".py",
   "mimetype": "text/x-python",
   "name": "python",
   "nbconvert_exporter": "python",
   "pygments_lexer": "ipython3",
   "version": "3.10.12"
  }
 },
 "nbformat": 4,
 "nbformat_minor": 5
}
